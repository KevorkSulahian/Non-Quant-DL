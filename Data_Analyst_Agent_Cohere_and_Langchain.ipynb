{
  "cells": [
    {
      "cell_type": "markdown",
      "metadata": {
        "id": "RIxdMyBlxj-k"
      },
      "source": [
        "<a target=\"_blank\" href=\"https://colab.research.google.com/github/cohere-ai/notebooks/blob/main/notebooks/Data_Analyst_Agent_Cohere_and_Langchain.ipynb\">\n",
        "  <img src=\"https://colab.research.google.com/assets/colab-badge.svg\" alt=\"Open In Colab\"/>\n",
        "</a>"
      ]
    },
    {
      "cell_type": "markdown",
      "metadata": {
        "id": "W8yvOB2MQp07"
      },
      "source": [
        "# Tool Use - Simple Data Analyst Agent with Cohere and Langchain\n",
        "\n",
        "Tool use is a method whichs allows developers to connect Cohere's Command models to external tools like search engines, APIs, databases, and other software tools. Just like how [Retrieval-Augmented Generation (RAG)](https://docs.cohere.com/docs/retrieval-augmented-generation-rag) allows a model to use an external data source to improve factual generation, tool use is a capability that allows retrieving data from multiple sources. But it goes beyond simply retrieving information and is able to use software tools to execute code, or even create entries in a CRM system.\n",
        "\n",
        "In this notebook, we'll see how we can use two tools to create a simple data analyst agent that is able to search the web and run code in a python interpreter. This agent uses Cohere's Command R+ mode and Langchain.\n",
        "\n",
        "\n",
        "![](https://raw.githubusercontent.com/cohere-ai/notebooks/main/notebooks/images/tool-use-notebook-header.png)\n",
        "\n",
        "# Environment\n",
        "Let's start by installing the required libraries"
      ]
    },
    {
      "cell_type": "code",
      "execution_count": 1,
      "metadata": {
        "colab": {
          "base_uri": "https://localhost:8080/"
        },
        "id": "ujQVUvA9QlD4",
        "outputId": "d2ff54f2-9066-47dd-fdf9-57ec20c772ce"
      },
      "outputs": [
        {
          "name": "stdout",
          "output_type": "stream",
          "text": [
            "\u001b[31mERROR: pip's dependency resolver does not currently take into account all the packages that are installed. This behaviour is the source of the following dependency conflicts.\n",
            "transformers 4.37.2 requires tokenizers<0.19,>=0.14, but you have tokenizers 0.19.1 which is incompatible.\u001b[0m\u001b[31m\n",
            "\u001b[0m\n",
            "\u001b[1m[\u001b[0m\u001b[34;49mnotice\u001b[0m\u001b[1;39;49m]\u001b[0m\u001b[39;49m A new release of pip is available: \u001b[0m\u001b[31;49m23.3.1\u001b[0m\u001b[39;49m -> \u001b[0m\u001b[32;49m24.0\u001b[0m\n",
            "\u001b[1m[\u001b[0m\u001b[34;49mnotice\u001b[0m\u001b[1;39;49m]\u001b[0m\u001b[39;49m To update, run: \u001b[0m\u001b[32;49mpip install --upgrade pip\u001b[0m\n"
          ]
        }
      ],
      "source": [
        "! pip install --quiet langchain langchain_cohere langchain_experimental"
      ]
    },
    {
      "cell_type": "markdown",
      "metadata": {
        "id": "cLsWOAjzTSfs"
      },
      "source": [
        "## Setup\n",
        "We'll need a Cohere API key here. Grab your key and paste it in the next slide if you have one, or [register](https://dashboard.cohere.ai/welcome/register) and create a new API key."
      ]
    },
    {
      "cell_type": "code",
      "execution_count": 2,
      "metadata": {
        "id": "K9rrOrKWJaBd"
      },
      "outputs": [],
      "source": [
        "### LLMs\n",
        "import os\n",
        "os.environ['COHERE_API_KEY'] = \"jz9VzYozZSNH0Hs9QJO5BQ7SNfGmXu5Fgn2mXsYl\""
      ]
    },
    {
      "cell_type": "code",
      "execution_count": 3,
      "metadata": {
        "id": "hPybpQ5whLkv"
      },
      "outputs": [],
      "source": [
        "# Create the Cohere chat model\n",
        "from langchain_cohere.chat_models import ChatCohere\n",
        "chat = ChatCohere(model=\"command-r-plus\", temperature=0.3)"
      ]
    },
    {
      "cell_type": "markdown",
      "metadata": {
        "id": "k3mrKxSsTfXO"
      },
      "source": [
        "# Define tools\n",
        "Our simple data analyst will be equipped with a web search tool, and a python interpreter (which we can use to run plotting code, for example)."
      ]
    },
    {
      "cell_type": "markdown",
      "metadata": {},
      "source": [
        "[all the tools](https://python.langchain.com/docs/integrations/tools/)"
      ]
    },
    {
      "cell_type": "markdown",
      "metadata": {
        "id": "4kGUB4IRF3W5"
      },
      "source": [
        "### Web search\n",
        "Let's first equip our agent with web search! We can use the Tivaly API for this. Head on to [tavily.com](https://tavily.com) and grab an API key to use here."
      ]
    },
    {
      "cell_type": "code",
      "execution_count": 4,
      "metadata": {
        "id": "hYsJgVY0F3W5"
      },
      "outputs": [],
      "source": [
        "from langchain_community.tools.tavily_search import TavilySearchResults\n",
        "\n",
        "os.environ['TAVILY_API_KEY'] = \"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\"\n",
        "\n",
        "internet_search = TavilySearchResults()\n",
        "internet_search.name = \"internet_search\"\n",
        "internet_search.description = \"Returns a list of relevant document snippets for a textual query retrieved from the internet.\"\n",
        "\n",
        "\n",
        "from langchain_core.pydantic_v1 import BaseModel, Field\n",
        "class TavilySearchInput(BaseModel):\n",
        "    query: str = Field(description=\"Query to search the internet with\")\n",
        "internet_search.args_schema = TavilySearchInput"
      ]
    },
    {
      "cell_type": "markdown",
      "metadata": {
        "id": "rsd-REnMhOq-"
      },
      "source": [
        "### Python interpreter tool\n",
        "Let's equip our agent with a python interpreter!"
      ]
    },
    {
      "cell_type": "code",
      "execution_count": 5,
      "metadata": {
        "id": "Zblt8Wm6aV0l"
      },
      "outputs": [],
      "source": [
        "from langchain.agents import Tool\n",
        "from langchain_experimental.utilities import PythonREPL\n",
        "\n",
        "python_repl = PythonREPL()\n",
        "repl_tool = Tool(\n",
        "    name=\"python_repl\",\n",
        "    description=\"Executes python code and returns the result. The code runs in a static sandbox without interactive mode, so print output or save output to a file.\",\n",
        "    func=python_repl.run,\n",
        ")\n",
        "repl_tool.name = \"python_interpreter\"\n",
        "\n",
        "# from langchain_core.pydantic_v1 import BaseModel, Field\n",
        "class ToolInput(BaseModel):\n",
        "    code: str = Field(description=\"Python code to execute.\")\n",
        "repl_tool.args_schema = ToolInput\n"
      ]
    },
    {
      "cell_type": "code",
      "execution_count": null,
      "metadata": {
        "id": "eoa3toXfdGkI"
      },
      "outputs": [],
      "source": []
    },
    {
      "cell_type": "markdown",
      "metadata": {
        "id": "2ENQAfYXRG9Q"
      },
      "source": [
        "# Create ReAct Agent: the data analyst"
      ]
    },
    {
      "cell_type": "code",
      "execution_count": 6,
      "metadata": {
        "id": "hx-Ew1i5F3W4"
      },
      "outputs": [],
      "source": [
        "from langchain.agents import AgentExecutor\n",
        "from langchain_cohere.react_multi_hop.agent import create_cohere_react_agent\n",
        "from langchain_core.prompts import ChatPromptTemplate"
      ]
    },
    {
      "cell_type": "code",
      "execution_count": 7,
      "metadata": {
        "id": "BPo3ZIHkF3W4"
      },
      "outputs": [],
      "source": [
        "# Create the prompt\n",
        "prompt = ChatPromptTemplate.from_template(\"{input}\")\n",
        "\n",
        "\n",
        "# Create the ReAct agent\n",
        "agent = create_cohere_react_agent(\n",
        "    llm=chat,\n",
        "    tools=[internet_search, repl_tool],\n",
        "    prompt=prompt,\n",
        ")"
      ]
    },
    {
      "cell_type": "code",
      "execution_count": 8,
      "metadata": {
        "id": "dks-7TGGtdLE"
      },
      "outputs": [],
      "source": [
        "agent_executor = AgentExecutor(agent=agent, tools=[internet_search, repl_tool], verbose=True)"
      ]
    },
    {
      "cell_type": "markdown",
      "metadata": {
        "id": "v7L1aBHds1pj"
      },
      "source": [
        "# Let's ask a question to the data analyst"
      ]
    },
    {
      "cell_type": "code",
      "execution_count": 9,
      "metadata": {
        "colab": {
          "base_uri": "https://localhost:8080/",
          "height": 1000
        },
        "id": "Jl0JNX2TF3W5",
        "outputId": "acba2355-1c8b-423d-fdb8-e7c326731a35"
      },
      "outputs": [
        {
          "name": "stdout",
          "output_type": "stream",
          "text": [
            "\n",
            "\n",
            "\u001b[1m> Entering new AgentExecutor chain...\u001b[0m\n",
            "\u001b[32;1m\u001b[1;3m\n",
            "First, I will search for the 3 tech companies with the highest market cap in the United States in 2024. Then, I will search for the number of full-time employees at each of these companies. Finally, I will use Python to create a plot of the number of full-time employees at these companies.\n",
            "{'tool_name': 'internet_search', 'parameters': {'query': '3 tech companies with highest market cap in the United States 2024'}}\n",
            "\u001b[0m\u001b[36;1m\u001b[1;3m[{'url': 'https://www.nytimes.com/interactive/2024/01/22/business/magnificent-seven-stocks-tech.html', 'content': \"Change in prices since Oct. 12, 2022\\n+450\\n%\\n+400\\nNvidia\\n+350\\n+300\\n+250\\n+200\\nMeta\\nOct. 12, 2022:\\nS&P 500’s most recent low\\n+150\\nMicrosoft\\n+100\\nAlphabet\\nApple\\nAmazon\\n+50\\nS&P 500\\n0\\nTesla\\n–50\\n’22\\n’23\\n’24\\n+450\\n%\\n+400\\nNvidia\\n+350\\n+300\\n+250\\n+200\\nMeta\\nOct. 12, 2022:\\nS&P 500’s most recent low\\n+150\\nMicrosoft\\n+100\\nAlphabet\\nApple\\nAmazon\\n+50\\nS&P 500\\n0\\nTesla\\n–50\\nO\\nN\\nD\\nJ\\nF\\nM\\nA\\nM\\nJ\\nJ\\nA\\nS\\nO\\nN\\nD\\nJ\\n2022\\n2023\\n2024\\n+450\\n%\\n+400\\nNvidia\\n+350\\n+300\\n+250\\n+200\\nMeta\\nOct. 12, 2022:\\nS&P 500’s most recent low\\n+150\\n+100\\nMicrosoft\\nAlphabet\\nApple\\n+50\\nAmazon\\nS&P 500\\n0\\nTesla\\n–50\\nOct.\\nNov.\\nDec.\\nJan.\\nFeb.\\nMarch\\nApril\\nMay\\nJune\\nJuly\\nAug.\\nSept.\\nOct.\\nNov.\\nDec.\\nJan.\\n2022\\n2023\\n2024\\nSource: FactSet\\nNote: Data is as of market close on Jan. 19.\\n S&P 500’s most recent low\\n+30\\n+20\\n+10\\nThe remaining\\n493 companies\\n0\\n−10\\n−20\\nO\\nN\\nD\\nJ\\nF\\nM\\nA\\nM\\nJ\\nJ\\nA\\nS\\nO\\nN\\nD\\nJ\\n’22\\n’23\\n’24\\n+70\\n%\\n‘Magnificent\\nSeven’\\ntech stocks\\n+60\\nAlphabet, Amazon, Apple, Meta, Microsoft, Nvidia, Tesla\\n+50\\n+40\\nS&P 500\\nOct. 12, 2022:\\n S&P 500’s most recent low\\n+30\\nThe\\nremaining\\n493\\ncompanies\\n+20\\n+10\\n0\\n−10\\n−20\\nO\\nN\\nD\\nJ\\nF\\nM\\nA\\nM\\nJ\\nJ\\nA\\nS\\nO\\nN\\nD\\nJ\\n2022\\n2023\\n2024\\n+70\\n%\\n‘Magnificent Seven’\\ntechnology stocks\\n+60\\nAlphabet, Amazon, Apple, Meta, Microsoft, Nvidia, Tesla\\n+50\\n+40\\nOct. 12, 2022:\\n JPMorgan\\nChase\\nUnited-\\nHealth\\nEli Lilly\\nVisa\\nBroadcom\\nJohnson &\\nJohnson\\nProcter &\\nGamble\\nExxon\\nMobil\\nHome\\nDepot\\nMastercard\\nCostco\\nWalmart\\nOracle\\nMerck\\nAccenture\\nT-Mobile\\nWells\\nFargo\\nPepsiCo\\nComcast\\nMcDonald's\\nIntuit\\nThermo\\nFisher\\nScientific\\nDanaher\\nNetflix\\nWalt\\nDisney\\nCisco\\nSys.\\n The remaining\\n493 companies\\n+20\\n+10\\n0\\n−10\\n−20\\nOct.\\nNov.\\nDec.\\nJan.\\nFeb.\\nMarch\\nApril\\nMay\\nJune\\nJuly\\nAug.\\nSept.\\nOct.\\nNov.\\nDec.\\nJan.\\n2022\\n2023\\n2024\\nSource: FactSet\\nNote: Data is as of market close on Jan. 19.\\n\"}, {'url': 'https://disfold.com/united-states/sector/technology/companies/', 'content': 'Unlock Financial AI:\\nStart your Free Trial of\\nDisfold AI, Now!\\nTop Technology Companies from the United States as of Jan. 01, 2024\\n(Dec. 1, 2023)\\nTop Technology Companies from the United States as of Jan. 01, 2024\\n1.\\nApple\\nMarket Cap (USD):\\n$2.866 T\\nStock:\\nAAPL\\nwb_incandescent\\nCountry:\\nUnited States\\nSector:\\nTechnology\\nIndustry:\\nConsumer Electronics\\n2.\\nMicrosoft\\nMarket Cap (USD):\\n$2.755 T\\nStock:\\nMSFT\\nwb_incandescent\\nCountry:\\nUnited States\\nSector:\\nTechnology\\nIndustry:\\nSoftware—Infrastructure\\n3.\\nNvidia\\nMarket Cap (USD):\\n$1.186 T\\nStock:\\nNVDA\\nwb_incandescent\\nCountry:\\nUnited States\\nSector:\\nTechnology\\nIndustry:\\nSemiconductors\\n4.\\nBroadcom\\nMarket Cap (USD):\\n$495.95 B\\nStock:\\nAVGO\\nwb_incandescent\\nCountry:\\nUnited States\\nSector:\\nTechnology\\nIndustry:\\nSemiconductors\\n5.\\nOracle\\nMarket Cap (USD):\\n$282.01 B\\nStock:\\nORCL\\nwb_incandescent\\nCountry:\\nUnited States\\nSector:\\nTechnology\\nIndustry:\\nSoftware—Infrastructure\\n6.\\n Marvell Technology, Inc.\\nMarket Cap (USD):\\n$49.61 B\\nStock:\\n9MW\\nwb_incandescent\\nCountry:\\nUnited States\\nSector:\\nTechnology\\nIndustry:\\nSemiconductors\\n35.\\nAutodesk, Inc.\\nMarket Cap (USD):\\n$48.97 B\\nStock:\\nADSK\\nwb_incandescent\\nCountry:\\nUnited States\\nSector:\\nTechnology\\nIndustry:\\nSoftware—Application\\n36.\\nMicrochip Technology Incorporated\\nMarket Cap (USD):\\n$45.77 B\\nStock:\\nMCHP\\nwb_incandescent\\nCountry:\\nUnited States\\nSector:\\nTechnology\\nIndustry:\\nSemiconductors\\n37.\\nFortinet, Inc.\\nMarket Cap (USD):\\n$44.84 B\\nStock:\\n Analog Devices\\nMarket Cap (USD):\\n$93.79 B\\nStock:\\nADI\\nwb_incandescent\\nCountry:\\nUnited States\\nSector:\\nTechnology\\nIndustry:\\nSemiconductors\\n20.\\nMicron Technology, Inc.\\nMarket Cap (USD):\\n$91.30 B\\nStock:\\nMU\\nwb_incandescent\\nCountry:\\nUnited States\\nSector:\\nTechnology\\nIndustry:\\nSemiconductors\\n21.\\nPalo Alto Networks\\nMarket Cap (USD):\\n$90.41 B\\nStock:\\nPANW\\nwb_incandescent\\nCountry:\\nUnited States\\nSector:\\nTechnology\\nIndustry:\\nSoftware—Infrastructure\\n22.\\n Fiserv\\nMarket Cap (USD):\\n$79.73 B\\nStock:\\nFI\\nwb_incandescent\\nCountry:\\nUnited States\\nSector:\\nTechnology\\nIndustry:\\nInformation Technology Services\\n23.\\nKLA\\nMarket Cap (USD):\\n$75.13 B\\nStock:\\nKLAC\\nwb_incandescent\\nCountry:\\nUnited States\\nSector:\\nTechnology\\nIndustry:\\nSemiconductor Equipment & Materials\\n24.\\nSynopsys\\nMarket Cap (USD):\\n$74.64 B\\nStock:\\nSNPS\\nwb_incandescent\\nCountry:\\nUnited States\\nSector:\\nTechnology\\nIndustry:\\nSoftware—Infrastructure\\n25.\\n Salesforce\\nMarket Cap (USD):\\n$243.78 B\\nStock:\\nCRM\\nwb_incandescent\\nCountry:\\nUnited States\\nSector:\\nTechnology\\nIndustry:\\nSoftware—Application\\n8.\\nAMD\\nMarket Cap (USD):\\n$219.72 B\\nStock:\\nAMD\\nwb_incandescent\\nCountry:\\nUnited States\\nSector:\\nTechnology\\nIndustry:\\nSemiconductors\\n9.\\nCisco\\nMarket Cap (USD):\\n$205.21 B\\nStock:\\nCSCO\\nwb_incandescent\\nCountry:\\nUnited States\\nSector:\\nTechnology\\nIndustry:\\nCommunication Equipment\\n10.\\n'}, {'url': 'https://www.statista.com/statistics/1350976/leading-tech-companies-worldwide-by-market-cap/', 'content': 'Digital & Trend reports\\nOverview and forecasts on trending topics\\nIndustry & Market reports\\nIndustry and market insights and forecasts\\nCompanies & Products reports\\nKey figures and rankings about companies and products\\nConsumer & Brand reports\\nConsumer and brand insights and preferences in various industries\\nPolitics & Society reports\\nDetailed information about political and social topics\\nCountry & Region reports\\nAll key figures about countries and regions\\nMarket forecast and expert KPIs for 1000+ markets in 190+ countries & territories\\nInsights on consumer attitudes and behavior worldwide\\nBusiness information on 100m+ public and private companies\\nExplore Company Insights\\nDetailed information for 39,000+ online stores and marketplaces\\nDirectly accessible data for 170 industries from 150+ countries\\nand over 1\\xa0Mio. facts.\\n Other statistics on the topicAI chips\\nHardware\\nLeading semiconductor companies worldwide 2023, by market cap\\nHardware\\nSemiconductor market revenue growth worldwide 1988-2024\\nHardware\\nNvidia revenue worldwide 2015-2023, by segment\\nHardware\\nSemiconductor market size worldwide 2020-2030, by application\\nYou only have access to basic statistics.\\n Other statistics that may interest you\\nOther statistics that may interest you Statistics on\\nAbout the industry\\nAbout the region\\nOther regions\\nRelated statistics\\nFurther related statistics\\nFurther Content: You might find this interesting as well\\nStatistics\\nTopics Transforming data into design:\\nStatista Content & Design\\nStrategy and business building for the data-driven economy:\\nLeading tech companies worldwide 2023, by market cap\\nApple\\nSamsung\\nLeading tech companies worldwide 2023, by market capitalization\\n(in billion U.S. dollars)\\n Additional Information\\nShow sources information\\nShow publisher information\\nUse Ask Statista Research Service\\nAugust 2023\\nWorldwide\\n2023\\n'}, {'url': 'https://ceoworld.biz/2024/02/17/the-united-states-largest-companies-by-market-capitalization-2024/', 'content': 'Christina Miller\\nUP NEXT\\n20 Biggest Gold Companies in Australia, 2024\\nWestern Bulk Chartering AS Appoints Ørjan Svanevik as Interim CEO\\nVolvo Trucks UK & Ireland Welcomes New Financial Leadership\\nPrometheum Appoints Wall Street Veteran Albert Meo as CFO\\nNikola Welcomes Thomas Okray as CFO\\nLet’s stay in touch\\nCompany Info\\nFind us on socials\\nWho we are?\\n This list comprises the biggest companies currently in the United States by market cap in 2024:\\nThe United States Largest Companies by market capitalization, 2024\\nMarket capitalization, commonly known as market cap, refers to the total market value of a company’s outstanding shares. Overall, among the United States’ top 10 largest companies by market capitalization, the sixth, seventh, eighth, ninth, and tenth positions are held by Meta Platforms, Berkshire Hathaway, Eli Lilly And Company, Tesla, and Broadcom Inc.\\nWhich one is the most valuable in the United States by market cap? The United States’ Largest Companies by market capitalization, 2024\\nAs of March 3, 2024, Microsoft is the most valuable company in the United States, with a market cap of $3074 billion. Stocks are often categorized by market cap: mega-cap ($100 billion-plus), large-cap ($10 billion-$100 billion), mid-cap ($2 billion-$10 billion), small-cap ($300 million-$2 billion), and micro-cap (less than $300 million).\\n'}, {'url': 'https://www.fool.com/research/largest-companies-by-market-cap/', 'content': \"It's the most valuable automaker in the world and has the world's best-selling car in the Model Y.\\nTesla is most famous for its vehicles, and it's second only to China's BYD Company (OTC:BYDDY) among the largest EV companies in terms of manufacturing. While it's most famous for Windows, Microsoft also has a diverse selection of products and services that has helped to build on its success, including:\\nMicrosoft has been the world's largest company before, and it briefly surpassed Apple for the biggest market cap in 2021. Walmart\\nWalmart (NYSE:WMT) may not have the largest market cap, but it is No. 1 in terms of revenue, and it’s the largest retailer in the world. Microsoft\\nConsidering the popularity of the Windows operating system, it’s no surprise that Microsoft (NASDAQ:MSFT) has consistently ranked as one of the largest companies in the world. Although the top spot has changed hands on multiple occasions, Apple has spent the most time there and is currently the most valuable company in the world.\\n\"}]\u001b[0m\u001b[32;1m\u001b[1;3m\n",
            "I found that the 3 tech companies with the highest market cap in the United States in 2024 are Apple, Microsoft, and Nvidia. Now, I will search for the number of full-time employees at each of these companies.\n",
            "{'tool_name': 'internet_search', 'parameters': {'query': 'number of full time employees at apple 2024'}}\n",
            "\u001b[0m\u001b[36;1m\u001b[1;3m[{'url': 'https://www.statista.com/statistics/273439/number-of-employees-of-apple-since-2005/', 'content': 'Digital & Trend reports\\nOverview and forecasts on trending topics\\nIndustry & Market reports\\nIndustry and market insights and forecasts\\nCompanies & Products reports\\nKey figures and rankings about companies and products\\nConsumer & Brand reports\\nConsumer and brand insights and preferences in various industries\\nPolitics & Society reports\\nDetailed information about political and social topics\\nCountry & Region reports\\nAll key figures about countries and regions\\nMarket forecast and expert KPIs for 1000+ markets in 190+ countries & territories\\nInsights on consumer attitudes and behavior worldwide\\nBusiness information on 100m+ public and private companies\\nExplore Company Insights\\nDetailed information for 39,000+ online stores and marketplaces\\nDirectly accessible data for 170 industries from 150+ countries\\nand over 1\\xa0Mio. facts.\\n Other statistics on the topicApple\\nConsumer Electronics\\nApple\\'s revenue worldwide 2004-2023\\nConsumer Electronics\\nApple\\'s revenue broken down by geographical region 2012-2023, by quarter\\nTelecommunications\\nQuarterly market share of smartphone vendors in the U.S. 2016-2023\\nConsumer Electronics\\nApple: expenditure on research and development 2007-2023\\nTo download this statistic in XLS format you need a Statista Account\\nTo download this statistic in PNG format you need a Statista Account\\nTo download this statistic in PDF format you need a Statista Account\\nTo download this statistic in PPT format you need a Statista Account\\nAs a Premium user you get access to the detailed source references and background information about this statistic.\\n Statistics on\\n\"\\nApple in the U.S.\\n\"\\nOther statistics that may interest you Apple in the U.S.\\nOverview: Apple\\nOverview: Apple in the U.S.\\nSegment: iPhone\\nSegment: iPad\\nSegment: Mac\\nSegment: Wearables & Smart home\\nFurther related statistics\\nFurther Content: You might find this interesting as well\\nStatistics\\nTopics Number of employees of Apple 2005-2023\\nApple Corporation – additional information\\nApple products\\nApple\\'s number of employees in the fiscal years 2005 to 2023\\n(in 1,000s)\\nAdditional Information\\nShow sources information\\nShow publisher information\\nUse Ask Statista Research Service\\nNovember 2023\\nWorldwide\\n2005 to 2023\\n Transforming data into design:\\nStatista Content & Design\\nStrategy and business building for the data-driven economy:\\nIndustry-specific and extensively researched technical data (partially from exclusive partnerships).'}, {'url': 'https://finance.yahoo.com/news/apple-reports-first-quarter-results-213000569.html', 'content': 'Products\\n58,440\\n60,765\\nServices\\n6,280\\n6,057\\nTotal cost of sales\\n64,720\\n66,822\\nGross margin\\n54,855\\n50,332\\nOperating expenses:\\nResearch and development\\n7,696\\n7,709\\nSelling, general and administrative\\n6,786\\n6,607\\nTotal operating expenses\\n14,482\\n14,316\\nOperating income\\n40,373\\n36,016\\nOther income/(expense), net\\n(50\\n)\\n(393\\n)\\nIncome before provision for income taxes\\n40,323\\n35,623\\nProvision for income taxes\\n6,407\\n5,625\\nNet income\\n$\\n33,916\\n$\\n29,998\\nEarnings per share:\\nBasic\\n$\\n2.19\\n$\\n1.89\\nDiluted\\n$\\n2.18\\n$\\n1.88\\nShares used in computing earnings per share:\\nBasic\\n15,509,763\\n15,892,723\\nDiluted\\n15,576,641\\n15,955,718\\n(1) Net sales by reportable segment:\\nAmericas\\n$\\n50,430\\n$\\n49,278\\nEurope\\n30,397\\n27,681\\nGreater China\\n20,819\\n23,905\\nJapan\\n7,767\\n6,755\\nRest of Asia Pacific\\n10,162\\n9,535\\nTotal net sales\\n$\\n119,575\\n$\\n117,154\\n(1) Net sales by category:\\niPhone\\n$\\n69,702\\n$\\n65,775\\nMac\\n7,780\\n7,735\\niPad\\n7,023\\n9,396\\nWearables, Home and Accessories\\n11,953\\n13,482\\nServices\\n23,117\\n20,766\\nTotal net sales\\n$\\n119,575\\n$\\n117,154\\nApple Inc.\\nCONDENSED CONSOLIDATED BALANCE SHEETS (Unaudited)\\n(In millions, except number of shares, which are reflected in thousands, and par value)\\nDecember 30, 2023\\nSeptember 30, 2023\\nASSETS:\\nCurrent assets:\\nCash and cash equivalents\\n$\\n40,760\\n$\\n29,965\\nMarketable securities\\n32,340\\n31,590\\nAccounts receivable, net\\n23,194\\n29,508\\nVendor non-trade receivables\\n26,908\\n31,477\\nInventories\\n6,511\\n6,331\\nOther current assets\\n13,979\\n14,695\\nTotal current assets\\n143,692\\n143,566\\nNon-current assets:\\nMarketable securities\\n99,475\\n100,544\\nProperty, plant and equipment, net\\n43,666\\n43,715\\nOther non-current assets\\n66,681\\n64,758\\nTotal non-current assets\\n209,822\\n209,017\\nTotal assets\\n$\\n353,514\\n$\\n352,583\\nLIABILITIES AND SHAREHOLDERS’ EQUITY:\\n Current liabilities:\\nAccounts payable\\n$\\n58,146\\n$\\n62,611\\nOther current liabilities\\n54,611\\n58,829\\nDeferred revenue\\n8,264\\n8,061\\nCommercial paper\\n1,998\\n5,985\\nTerm debt\\n10,954\\n9,822\\nTotal current liabilities\\n133,973\\n145,308\\nNon-current liabilities:\\nTerm debt\\n95,088\\n95,281\\nOther non-current liabilities\\n50,353\\n49,848\\nTotal non-current liabilities\\n145,441\\n145,129\\nTotal liabilities\\n279,414\\n290,437\\nCommitments and contingencies\\nShareholders’ equity:\\nCommon stock and additional paid-in capital, $0.00001 par value: 50,400,000 shares authorized; 15,460,223 and 15,550,061 shares issued and outstanding, respectively\\n75,236\\n73,812\\nRetained earnings/(Accumulated deficit)\\n8,242\\n(214\\n)\\nAccumulated other comprehensive loss\\n(9,378\\n)\\n(11,452\\n)\\nTotal shareholders’ equity\\n74,100\\n62,146\\nTotal liabilities and shareholders’ equity\\n$\\n353,514\\n$\\n352,583\\nApple Inc.\\nCONDENSED CONSOLIDATED STATEMENTS OF CASH FLOWS (Unaudited)\\n(In millions)\\nThree Months Ended\\nDecember 30, 2023\\nDecember 31, 2022\\nCash, cash equivalents and restricted cash, beginning balances\\n$\\n30,737\\n$\\n24,977\\nOperating activities:\\nNet income\\n33,916\\n29,998\\nAdjustments to reconcile net income to cash generated by operating activities:\\nDepreciation and amortization\\n2,848\\n2,916\\nShare-based compensation expense\\n2,997\\n2,905\\nOther\\n(989\\n)\\n(317\\n)\\nChanges in operating assets and liabilities:\\nAccounts receivable, net\\n6,555\\n4,275\\nVendor non-trade receivables\\n4,569\\n2,320\\nInventories\\n(137\\n)\\n(1,807\\n)\\nOther current and non-current assets\\n(1,457\\n)\\n(4,099\\n)\\nAccounts payable\\n(4,542\\n)\\n(6,075\\n)\\nOther current and non-current liabilities\\n(3,865\\n)\\n3,889\\nCash generated by operating activities\\n39,895\\n34,005\\nInvesting activities:\\n Repurchases of common stock\\n(20,139\\n)\\n(19,475\\n)\\nRepayments of term debt\\n—\\n(1,401\\n)\\nRepayments of commercial paper, net\\n(3,984\\n)\\n(8,214\\n)\\nOther\\n(46\\n)\\n(389\\n)\\nCash used in financing activities\\n(30,585\\n)\\n(35,563\\n)\\nIncrease/(Decrease) in cash, cash equivalents and restricted cash\\n11,237\\n(3,003\\n)\\nCash, cash equivalents and restricted cash, ending balances\\n$\\n41,974\\n$\\n21,974\\nSupplemental cash flow disclosure:\\nCash paid for income taxes, net\\n$\\n7,255\\n$\\n828\\nView source version on businesswire.com: https://www.businesswire.com/news/home/20240201247551/en/\\nContacts\\nPress Contact: Josh RosenstockApplejrosenstock@apple.com (408) 862-1142\\nInvestor Relations Contact: Suhasini ChandramouliApplesuhasini@apple.com (408) 974-3123\\nTRENDING S&P 500\\nDow 30\\nNasdaq\\nRussell 2000\\nCrude Oil\\nGold\\nSilver\\nEUR/USD\\n10-Yr Bond\\ndólar/libra\\nUSD/JPY\\nBitcoin USD\\nCMC Crypto 200\\nFTSE 100\\nNikkei 225\\nApple reports first quarter results\\nServices revenue reaches new all-time record\\nEPS up 16 percent to new all-time high\\nCUPERTINO, Calif., February 01, 2024--(BUSINESS WIRE)--Apple® today announced financial results for its fiscal 2024 first quarter ended December 30, 2023. Three Months Ended\\nDecember 30, 2023\\nDecember 31, 2022\\nNet sales:\\nProducts\\n$\\n96,458\\n$\\n96,388\\nServices\\n23,117\\n20,766\\nTotal net sales (1)\\n119,575\\n117,154\\nCost of sales:\\n'}, {'url': 'https://www.apple.com/newsroom/2024/02/apple-reports-first-quarter-results/', 'content': 'The latest news and updates,\\ndirect from Apple.\\nRead more\\nApple Footer\\nShop and Learn\\nShop and Learn\\n+\\nApple Wallet\\nApple Wallet\\n+\\nAccount\\nAccount\\n+\\nEntertainment\\nEntertainment\\n+\\nApple Store\\nApple Store\\n+\\nFor Business\\nFor Business\\n+\\nFor Education\\nFor Education\\n+\\nFor Healthcare\\nFor Healthcare\\n+\\nFor Government\\nFor Government\\n+\\nApple Values\\nApple Values\\n+\\nAbout Apple\\nAbout Apple\\n+ Risks and uncertainties include without limitation: effects of global and regional economic conditions, including as a result of government policies, war, terrorism, natural disasters, and public health issues; risks relating to the design, manufacture, introduction, and transition of products and services in highly competitive and rapidly changing markets, including from reliance on third parties for components, technology, manufacturing, applications, and content; risks relating to information technology system failures, network disruptions, and failure to protect, loss of, or unauthorized access to, or release of, data; and effects of unfavorable legal proceedings, government investigations, and complex and changing laws and regulations. Press Contact\\nJosh Rosenstock\\nApple\\njrosenstock@apple.com\\n(408) 862-1142\\nInvestor Relations Contact\\nSuhasini Chandramouli\\nApple\\nsuhasini@apple.com\\n(408) 974-3123\\n More information on these risks and other potential factors that could affect the Company’s business, reputation, results of operations, financial condition, and stock price is included in the Company’s filings with the SEC, including in the “Risk Factors” and “Management’s Discussion and Analysis of Financial Condition and Results of Operations” sections of the Company’s most recently filed periodic reports on Form 10-K and Form 10-Q and subsequent filings. Apple’s five software platforms — iOS, iPadOS, macOS, watchOS, and tvOS — provide seamless experiences across all Apple devices and empower people with breakthrough services including the App Store, Apple Music, Apple Pay, and iCloud.'}, {'url': 'https://www.apple.com/newsroom/2024/05/apple-reports-second-quarter-results/', 'content': '\"Today Apple is reporting revenue of $90.8 billion for the March quarter, including an all-time revenue record in Services,\" said Tim Cook, Apple\\'s CEO. \"During the quarter, we were thrilled to launch Apple Vision Pro and to show the world the potential that spatial computing unlocks.'}, {'url': 'https://www.macrotrends.net/stocks/charts/AAPL/apple/number-of-employees', 'content': 'Employee Count. Interactive chart of Apple (AAPL) annual worldwide employee count from 2010 to 2023. Apple total number of employees in 2023 was 161,000, a 1.83% decline from 2022. Apple total number of employees in 2022 was 164,000, a 6.49% increase from 2021. Apple total number of employees in 2021 was 154,000, a 4.76% increase from 2020.'}]\u001b[0m\u001b[32;1m\u001b[1;3m\n",
            "{'tool_name': 'internet_search', 'parameters': {'query': 'number of full time employees at microsoft 2024'}}\n",
            "\u001b[0m\u001b[36;1m\u001b[1;3m[{'url': 'https://www.macrotrends.net/stocks/charts/MSFT/microsoft/number-of-employees', 'content': 'Interactive chart of Microsoft (MSFT) annual worldwide employee count from 2010 to 2024. Microsoft total number of employees in 2023 was 221,000, a 0% decline from 2022. Microsoft total number of employees in 2022 was 221,000, a 22.1% increase from 2021. Microsoft total number of employees in 2021 was 181,000, a 11.04% increase from 2020.'}, {'url': 'https://www.microsoft.com/investor/reports/ar23/index.html', 'content': 'As of June 30, 2023, we employed approximately 221,000 people on a full-time basis, 120,000 in the U.S. and 101,000 internationally. Of the total employed people, 89,000 were in operations, including manufacturing, distribution, product support, and consulting services; 72,000 were in product research and development; 45,000 were in sales and ...'}, {'url': 'https://www.statista.com/statistics/273475/number-of-employees-at-the-microsoft-corporation-since-2005/', 'content': 'Digital & Trend reports\\nOverview and forecasts on trending topics\\nIndustry & Market reports\\nIndustry and market insights and forecasts\\nCompanies & Products reports\\nKey figures and rankings about companies and products\\nConsumer & Brand reports\\nConsumer and brand insights and preferences in various industries\\nPolitics & Society reports\\nDetailed information about political and social topics\\nCountry & Region reports\\nAll key figures about countries and regions\\nMarket forecast and expert KPIs for 1000+ markets in 190+ countries & territories\\nInsights on consumer attitudes and behavior worldwide\\nBusiness information on 100m+ public and private companies\\nExplore Company Insights\\nDetailed information for 39,000+ online stores and marketplaces\\nDirectly accessible data for 170 industries from 150+ countries\\nand over 1\\xa0Mio. facts.\\n Other statistics on the topicMicrosoft\\nSoftware\\nMicrosoft\\'s expenditure on research and development 2002-2023\\nSoftware\\nOffice productivity software market share worldwide 2022\\nIT Services\\nCloud infrastructure services market share quarterly worldwide 2017-2022, by vendor\\nSoftware\\nMicrosoft\\'s revenue 2008-2024, by fiscal quarter\\nTo download this statistic in XLS format you need a Statista Account\\nTo download this statistic in PNG format you need a Statista Account\\nTo download this statistic in PDF format you need a Statista Account\\nTo download this statistic in PPT format you need a Statista Account\\nAs a Premium user you get access to the detailed source references and background information about this statistic.\\n Statistics on\\n\"\\nMicrosoft\\n\"\\nOther statistics that may interest you Microsoft\\nOverview\\nCompany financials\\nSegments\\nCompetitors: Software\\nCompetitors: Cloud\\nCompetitors: Devices\\nFurther related statistics\\nFurther Content: You might find this interesting as well\\nStatistics\\nTopics Number of Microsoft employees 2005-2023\\nHow many employees does Microsoft have?\\nNumber of employees at the Microsoft Corporation from 2005 to 2023\\n(in 1,000s)\\nAdditional Information\\nShow sources information\\nShow publisher information\\nUse Ask Statista Research Service\\nJuly 2023\\nWorldwide\\n2005 to 2023\\nMicrosoft\\'s fiscal year ends on June 30.\\n Transforming data into design:\\nStatista Content & Design\\nStrategy and business building for the data-driven economy:\\nIndustry-specific and extensively researched technical data (partially from exclusive partnerships).'}, {'url': 'https://www.microsoft.com/en-us/Investor/earnings/FY-2024-Q3/press-release-webcast', 'content': 'REDMOND, Wash. — April 25, 2024 — Microsoft Corp. today announced the following results for the quarter ended March 31, 2024, as compared to the corresponding period of last fiscal year: · Revenue was $61.9 billion and increased 17%. · Operating income was $27.6 billion and increased 23%.'}, {'url': 'https://stockanalysis.com/stocks/msft/employees/', 'content': 'Microsoft had 221,000 employees on June 30, 2023. The number of employees did not change compared to the previous year. Employees 221,000. Change (1Y) n/a. Growth (1Y) n/a. Revenue / Employee $1,070,516. Profits / Employee ... Real-time quotes provided by IEX Cloud. Other market data may be delayed by 15 minutes or more.'}]\u001b[0m\u001b[32;1m\u001b[1;3m\n",
            "{'tool_name': 'internet_search', 'parameters': {'query': 'number of full time employees at nvidia 2024'}}\n",
            "\u001b[0m\u001b[36;1m\u001b[1;3m[{'url': 'https://stocklight.com/stocks/us/nasdaq-nvda/nvidia/annual-reports/nasdaq-nvda-2024-10K-24660316.pdf', 'content': 'Revenue for fiscal year 2024 was $60.9 billion, up 126% from a year ago. Data Center revenue for ﬁscal year 2024 was up 217%. Strong demand was driven by enterprise software and consumer internet applications, and multiple industry verticals including automotive, ﬁnancial services, and healthcare.'}, {'url': 'https://www.macrotrends.net/stocks/charts/NVDA/nvidia/number-of-employees', 'content': 'Employee Count. Interactive chart of NVIDIA (NVDA) annual worldwide employee count from 2010 to 2024. NVIDIA total number of employees in 2024 was 29,600, a 12.99% increase from 2023. NVIDIA total number of employees in 2023 was 26,196, a 16.57% increase from 2022. NVIDIA total number of employees in 2022 was 22,473, a 18.43% increase from 2021.'}, {'url': 'https://investor.nvidia.com/news/press-release-details/2024/NVIDIA-Announces-Financial-Results-for-Fourth-Quarter-and-Fiscal-2024/?ref=robotradingnet.ghost.io', 'content': 'SANTA CLARA, Calif., Feb. 21, 2024 (GLOBE NEWSWIRE) -- NVIDIA (NASDAQ: NVDA) today reported revenue for the fourth quarter ended January 28, 2024, of $22.1 billion, up 22% from the previous quarter and up 265% from a year ago. For the quarter, GAAP earnings per diluted share was $4.93, up 33% from the previous quarter and up 765% from a year ...'}, {'url': 'https://www.wallstreetzen.com/stocks/us/nasdaq/nvda/statistics', 'content': \"Nvidia GeForce RTX 3080 Ti. 209,081. Nvidia GeForce RTX 4070 Ti. 209,019. The top 9 most powerful GPUs on the market are Nvidia's. [ 2] Last Accessed: Mar 23, 2023. The Nvidia GeForce RTX 4090 Ti is the most powerful graphics card currently available on the market.\"}, {'url': 'https://stockanalysis.com/stocks/nvda/employees/', 'content': 'NVIDIA had 29,600 employees on January 28, 2024. The number of employees increased by 3,404 or 12.99% compared to the previous year. Employees 29,600. Change (1Y) 3,404. ... Real-time quotes provided by IEX Cloud. Other market data may be delayed by 15 minutes or more. ...'}]\u001b[0m"
          ]
        },
        {
          "name": "stderr",
          "output_type": "stream",
          "text": [
            "Python REPL can execute arbitrary code. Use with caution.\n"
          ]
        },
        {
          "name": "stdout",
          "output_type": "stream",
          "text": [
            "\u001b[32;1m\u001b[1;3m\n",
            "I found that the number of full-time employees at Apple, Microsoft, and Nvidia in 2024 are 161,000, 221,000, and 29,600, respectively. Now, I will use Python to create a plot of the number of full-time employees at these companies.\n",
            "{'tool_name': 'python_interpreter', 'parameters': {'code': \"import matplotlib.pyplot as plt\\n\\n# Data\\ncompanies = ['Apple', 'Microsoft', 'Nvidia']\\nnum_employees = [161000, 221000, 29600]\\n\\n# Plot\\nplt.bar(companies, num_employees)\\nplt.xlabel('Company')\\nplt.ylabel('Number of Full-Time Employees')\\n\\n# Save the plot\\nplt.savefig('number_of_full_time_employees.png')\"}}\n",
            "\u001b[0m\u001b[33;1m\u001b[1;3m\u001b[0m\u001b[32;1m\u001b[1;3mRelevant Documents: 1,3,4,9,10,11,14,16,19,20\n",
            "Cited Documents: 1,3,4,9,10,11,14,16,19,20\n",
            "Answer: Here is a plot of the number of full-time employees at the 3 tech companies with the highest market cap in the United States in 2024:\n",
            "\n",
            "![Number of Full-Time Employees](number_of_full_time_employees.png)\n",
            "Grounded answer: Here is a plot of the number of full-time employees at the 3 tech companies with the highest market cap in the United States in 2024:\n",
            "\n",
            "<co: 20>! [Number of Full-Time Employees](number_of_full_time_employees.png)</co: 20>\u001b[0m\n",
            "\n",
            "\u001b[1m> Finished chain.\u001b[0m\n"
          ]
        },
        {
          "data": {
            "text/plain": [
              "{'input': 'Create a plot of the number of full time employees at the 3 tech companies with the highest market cap in the United States in 2024.',\n",
              " 'output': 'Here is a plot of the number of full-time employees at the 3 tech companies with the highest market cap in the United States in 2024:\\n\\n! [Number of Full-Time Employees](number_of_full_time_employees.png)',\n",
              " 'citations': [CohereCitation(start=135, end=203, text='! [Number of Full-Time Employees](number_of_full_time_employees.png)', documents=[{'output': '', 'id': 'doc_20'}], document_ids={'doc_20'})]}"
            ]
          },
          "execution_count": 9,
          "metadata": {},
          "output_type": "execute_result"
        },
        {
          "data": {
            "image/png": "[encoded data removed]",
            "text/plain": [
              "<Figure size 640x480 with 1 Axes>"
            ]
          },
          "metadata": {},
          "output_type": "display_data"
        }
      ],
      "source": [
        "agent_executor.invoke({\n",
        "    \"input\": \"Create a plot of the number of full time employees at the 3 tech companies with the highest market cap in the United States in 2024.\",\n",
        "})"
      ]
    },
    {
      "cell_type": "code",
      "execution_count": null,
      "metadata": {
        "id": "FmEhDo-GGA_d"
      },
      "outputs": [],
      "source": [
        "# notice that the model did websearch calls, then used python to do some analysis\n",
        "# the model can even self-debug itself if the python code was wrong"
      ]
    },
    {
      "cell_type": "markdown",
      "metadata": {
        "id": "MgSuSpuBzof-"
      },
      "source": [
        "# Let's ask another question to the data analyst -- which requires a direct answer"
      ]
    },
    {
      "cell_type": "code",
      "execution_count": null,
      "metadata": {
        "colab": {
          "base_uri": "https://localhost:8080/"
        },
        "id": "AW_8C7mszsVE",
        "outputId": "5a0d58d1-b589-403c-c071-0a76069ea113"
      },
      "outputs": [
        {
          "name": "stdout",
          "output_type": "stream",
          "text": [
            "\n",
            "\n",
            "\u001b[1m> Entering new AgentExecutor chain...\u001b[0m\n",
            "\u001b[32;1m\u001b[1;3mPlan: I will respond to the user's greeting.\n",
            "Action: ```json\n",
            "[\n",
            "    {\n",
            "        \"tool_name\": \"directly_answer\",\n",
            "        \"parameters\": {}\n",
            "    }\n",
            "]\n",
            "```\n",
            "Relevant Documents: None\n",
            "Cited Documents: None\n",
            "Answer: Hey, I'm doing well, thank you for asking! How can I help you today?\n",
            "Grounded answer: Hey, I'm doing well, thank you for asking! How can I help you today?\u001b[0m\n",
            "\n",
            "\u001b[1m> Finished chain.\u001b[0m\n"
          ]
        },
        {
          "data": {
            "text/plain": [
              "{'input': 'Hey how are you?',\n",
              " 'output': \"Hey, I'm doing well, thank you for asking! How can I help you today?\",\n",
              " 'citations': []}"
            ]
          },
          "execution_count": 16,
          "metadata": {},
          "output_type": "execute_result"
        }
      ],
      "source": [
        "agent_executor.invoke({\n",
        "    \"input\": \"Hey how are you?\",\n",
        "})"
      ]
    },
    {
      "cell_type": "markdown",
      "metadata": {
        "id": "wZBaxCYeG4Xf"
      },
      "source": [
        "This is a simple example to get you start. There [are many tools](https://python.langchain.com/docs/integrations/tools/) you can equip your agent with. Once youre comfortable with these ideas, you can also proceed to define your tools (see [Multi-step tool use in Action](https://docs.cohere.com/docs/multi-step-tool-use#multi-step-tool-use-in-action)).\n"
      ]
    }
  ],
  "metadata": {
    "colab": {
      "provenance": []
    },
    "kernelspec": {
      "display_name": "Python 3 (ipykernel)",
      "language": "python",
      "name": "python3"
    },
    "language_info": {
      "codemirror_mode": {
        "name": "ipython",
        "version": 3
      },
      "file_extension": ".py",
      "mimetype": "text/x-python",
      "name": "python",
      "nbconvert_exporter": "python",
      "pygments_lexer": "ipython3",
      "version": "3.10.10"
    }
  },
  "nbformat": 4,
  "nbformat_minor": 0
}
