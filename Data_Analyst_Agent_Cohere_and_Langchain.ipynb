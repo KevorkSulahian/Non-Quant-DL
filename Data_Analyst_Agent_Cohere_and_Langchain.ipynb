{
  "cells": [
    {
      "cell_type": "markdown",
      "metadata": {
        "id": "RIxdMyBlxj-k"
      },
      "source": [
        "<a target=\"_blank\" href=\"https://colab.research.google.com/github/cohere-ai/notebooks/blob/main/notebooks/Data_Analyst_Agent_Cohere_and_Langchain.ipynb\">\n",
        "  <img src=\"https://colab.research.google.com/assets/colab-badge.svg\" alt=\"Open In Colab\"/>\n",
        "</a>"
      ]
    },
    {
      "cell_type": "markdown",
      "metadata": {
        "id": "W8yvOB2MQp07"
      },
      "source": [
        "# Tool Use - Simple Data Analyst Agent with Cohere and Langchain\n",
        "\n",
        "Tool use is a method whichs allows developers to connect Cohere's Command models to external tools like search engines, APIs, databases, and other software tools. Just like how [Retrieval-Augmented Generation (RAG)](https://docs.cohere.com/docs/retrieval-augmented-generation-rag) allows a model to use an external data source to improve factual generation, tool use is a capability that allows retrieving data from multiple sources. But it goes beyond simply retrieving information and is able to use software tools to execute code, or even create entries in a CRM system.\n",
        "\n",
        "In this notebook, we'll see how we can use two tools to create a simple data analyst agent that is able to search the web and run code in a python interpreter. This agent uses Cohere's Command R+ mode and Langchain.\n",
        "\n",
        "\n",
        "![](https://raw.githubusercontent.com/cohere-ai/notebooks/main/notebooks/images/tool-use-notebook-header.png)\n",
        "\n",
        "# Environment\n",
        "Let's start by installing the required libraries"
      ]
    },
    {
      "cell_type": "code",
      "execution_count": 1,
      "metadata": {
        "colab": {
          "base_uri": "https://localhost:8080/"
        },
        "id": "ujQVUvA9QlD4",
        "outputId": "d2ff54f2-9066-47dd-fdf9-57ec20c772ce"
      },
      "outputs": [
        {
          "name": "stdout",
          "output_type": "stream",
          "text": [
            "\u001b[2K     \u001b[90m━━━━━━━━━━━━━━━━━━━━━━━━━━━━━━━━━━━━━━━━\u001b[0m \u001b[32m817.7/817.7 kB\u001b[0m \u001b[31m4.8 MB/s\u001b[0m eta \u001b[36m0:00:00\u001b[0m\n",
            "\u001b[2K     \u001b[90m━━━━━━━━━━━━━━━━━━━━━━━━━━━━━━━━━━━━━━━━\u001b[0m \u001b[32m193.4/193.4 kB\u001b[0m \u001b[31m7.4 MB/s\u001b[0m eta \u001b[36m0:00:00\u001b[0m\n",
            "\u001b[2K     \u001b[90m━━━━━━━━━━━━━━━━━━━━━━━━━━━━━━━━━━━━━━━━\u001b[0m \u001b[32m1.9/1.9 MB\u001b[0m \u001b[31m12.3 MB/s\u001b[0m eta \u001b[36m0:00:00\u001b[0m\n",
            "\u001b[2K     \u001b[90m━━━━━━━━━━━━━━━━━━━━━━━━━━━━━━━━━━━━━━━━\u001b[0m \u001b[32m299.3/299.3 kB\u001b[0m \u001b[31m8.4 MB/s\u001b[0m eta \u001b[36m0:00:00\u001b[0m\n",
            "\u001b[2K     \u001b[90m━━━━━━━━━━━━━━━━━━━━━━━━━━━━━━━━━━━━━━━━\u001b[0m \u001b[32m116.0/116.0 kB\u001b[0m \u001b[31m9.0 MB/s\u001b[0m eta \u001b[36m0:00:00\u001b[0m\n",
            "\u001b[2K     \u001b[90m━━━━━━━━━━━━━━━━━━━━━━━━━━━━━━━━━━━━━━━━\u001b[0m \u001b[32m151.2/151.2 kB\u001b[0m \u001b[31m12.5 MB/s\u001b[0m eta \u001b[36m0:00:00\u001b[0m\n",
            "\u001b[2K     \u001b[90m━━━━━━━━━━━━━━━━━━━━━━━━━━━━━━━━━━━━━━━━\u001b[0m \u001b[32m3.1/3.1 MB\u001b[0m \u001b[31m18.2 MB/s\u001b[0m eta \u001b[36m0:00:00\u001b[0m\n",
            "\u001b[2K     \u001b[90m━━━━━━━━━━━━━━━━━━━━━━━━━━━━━━━━━━━━━━━━\u001b[0m \u001b[32m75.6/75.6 kB\u001b[0m \u001b[31m5.0 MB/s\u001b[0m eta \u001b[36m0:00:00\u001b[0m\n",
            "\u001b[2K     \u001b[90m━━━━━━━━━━━━━━━━━━━━━━━━━━━━━━━━━━━━━━━━\u001b[0m \u001b[32m49.4/49.4 kB\u001b[0m \u001b[31m2.8 MB/s\u001b[0m eta \u001b[36m0:00:00\u001b[0m\n",
            "\u001b[2K     \u001b[90m━━━━━━━━━━━━━━━━━━━━━━━━━━━━━━━━━━━━━━━━\u001b[0m \u001b[32m53.0/53.0 kB\u001b[0m \u001b[31m1.9 MB/s\u001b[0m eta \u001b[36m0:00:00\u001b[0m\n",
            "\u001b[2K     \u001b[90m━━━━━━━━━━━━━━━━━━━━━━━━━━━━━━━━━━━━━━━━\u001b[0m \u001b[32m141.1/141.1 kB\u001b[0m \u001b[31m1.4 MB/s\u001b[0m eta \u001b[36m0:00:00\u001b[0m\n",
            "\u001b[2K     \u001b[90m━━━━━━━━━━━━━━━━━━━━━━━━━━━━━━━━━━━━━━━━\u001b[0m \u001b[32m77.9/77.9 kB\u001b[0m \u001b[31m5.4 MB/s\u001b[0m eta \u001b[36m0:00:00\u001b[0m\n",
            "\u001b[2K     \u001b[90m━━━━━━━━━━━━━━━━━━━━━━━━━━━━━━━━━━━━━━━━\u001b[0m \u001b[32m58.3/58.3 kB\u001b[0m \u001b[31m4.4 MB/s\u001b[0m eta \u001b[36m0:00:00\u001b[0m\n",
            "\u001b[?25h"
          ]
        }
      ],
      "source": [
        "! pip install --quiet langchain langchain_cohere langchain_experimental"
      ]
    },
    {
      "cell_type": "markdown",
      "metadata": {
        "id": "cLsWOAjzTSfs"
      },
      "source": [
        "## Setup\n",
        "We'll need a Cohere API key here. Grab your key and paste it in the next slide if you have one, or [register](https://dashboard.cohere.ai/welcome/register) and create a new API key."
      ]
    },
    {
      "cell_type": "code",
      "execution_count": 2,
      "metadata": {
        "id": "K9rrOrKWJaBd"
      },
      "outputs": [],
      "source": [
        "### LLMs\n",
        "import os\n",
        "os.environ['COHERE_API_KEY'] = <sfef>"
      ]
    },
    {
      "cell_type": "code",
      "execution_count": 3,
      "metadata": {
        "id": "hPybpQ5whLkv"
      },
      "outputs": [],
      "source": [
        "# Create the Cohere chat model\n",
        "from langchain_cohere.chat_models import ChatCohere\n",
        "chat = ChatCohere(model=\"command-r-plus\", temperature=0.3)"
      ]
    },
    {
      "cell_type": "markdown",
      "metadata": {
        "id": "k3mrKxSsTfXO"
      },
      "source": [
        "# Define tools\n",
        "Our simple data analyst will be equipped with a web search tool, and a python interpreter (which we can use to run plotting code, for example)."
      ]
    },
    {
      "cell_type": "markdown",
      "metadata": {
        "id": "4kGUB4IRF3W5"
      },
      "source": [
        "### Web search\n",
        "Let's first equip our agent with web search! We can use the Tivaly API for this. Head on to [tavily.com](https://tavily.com) and grab an API key to use here."
      ]
    },
    {
      "cell_type": "code",
      "execution_count": 4,
      "metadata": {
        "id": "hYsJgVY0F3W5"
      },
      "outputs": [],
      "source": [
        "from langchain_community.tools.tavily_search import TavilySearchResults\n",
        "\n",
        "os.environ['TAVILY_API_KEY'] = \"<>\n",
        "\n",
        "internet_search = TavilySearchResults()\n",
        "internet_search.name = \"internet_search\"\n",
        "internet_search.description = \"Returns a list of relevant document snippets for a textual query retrieved from the internet.\"\n",
        "\n",
        "\n",
        "from langchain_core.pydantic_v1 import BaseModel, Field\n",
        "class TavilySearchInput(BaseModel):\n",
        "    query: str = Field(description=\"Query to search the internet with\")\n",
        "internet_search.args_schema = TavilySearchInput"
      ]
    },
    {
      "cell_type": "markdown",
      "metadata": {
        "id": "rsd-REnMhOq-"
      },
      "source": [
        "### Python interpreter tool\n",
        "Let's equip our agent with a python interpreter!"
      ]
    },
    {
      "cell_type": "code",
      "execution_count": 5,
      "metadata": {
        "id": "Zblt8Wm6aV0l"
      },
      "outputs": [],
      "source": [
        "from langchain.agents import Tool\n",
        "from langchain_experimental.utilities import PythonREPL\n",
        "\n",
        "python_repl = PythonREPL()\n",
        "repl_tool = Tool(\n",
        "    name=\"python_repl\",\n",
        "    description=\"Executes python code and returns the result. The code runs in a static sandbox without interactive mode, so print output or save output to a file.\",\n",
        "    func=python_repl.run,\n",
        ")\n",
        "repl_tool.name = \"python_interpreter\"\n",
        "\n",
        "# from langchain_core.pydantic_v1 import BaseModel, Field\n",
        "class ToolInput(BaseModel):\n",
        "    code: str = Field(description=\"Python code to execute.\")\n",
        "repl_tool.args_schema = ToolInput\n"
      ]
    },
    {
      "cell_type": "code",
      "execution_count": null,
      "metadata": {
        "id": "eoa3toXfdGkI"
      },
      "outputs": [],
      "source": []
    },
    {
      "cell_type": "markdown",
      "metadata": {
        "id": "2ENQAfYXRG9Q"
      },
      "source": [
        "# Create ReAct Agent: the data analyst"
      ]
    },
    {
      "cell_type": "code",
      "execution_count": 6,
      "metadata": {
        "id": "hx-Ew1i5F3W4"
      },
      "outputs": [],
      "source": [
        "from langchain.agents import AgentExecutor\n",
        "from langchain_cohere.react_multi_hop.agent import create_cohere_react_agent\n",
        "from langchain_core.prompts import ChatPromptTemplate"
      ]
    },
    {
      "cell_type": "code",
      "execution_count": 7,
      "metadata": {
        "id": "BPo3ZIHkF3W4"
      },
      "outputs": [],
      "source": [
        "# Create the prompt\n",
        "prompt = ChatPromptTemplate.from_template(\"{input}\")\n",
        "\n",
        "\n",
        "# Create the ReAct agent\n",
        "agent = create_cohere_react_agent(\n",
        "    llm=chat,\n",
        "    tools=[internet_search, repl_tool],\n",
        "    prompt=prompt,\n",
        ")"
      ]
    },
    {
      "cell_type": "code",
      "execution_count": 8,
      "metadata": {
        "id": "dks-7TGGtdLE"
      },
      "outputs": [],
      "source": [
        "agent_executor = AgentExecutor(agent=agent, tools=[internet_search, repl_tool], verbose=True)"
      ]
    },
    {
      "cell_type": "markdown",
      "metadata": {
        "id": "v7L1aBHds1pj"
      },
      "source": [
        "# Let's ask a question to the data analyst"
      ]
    },
    {
      "cell_type": "code",
      "execution_count": 9,
      "metadata": {
        "colab": {
          "base_uri": "https://localhost:8080/",
          "height": 1000
        },
        "id": "Jl0JNX2TF3W5",
        "outputId": "acba2355-1c8b-423d-fdb8-e7c326731a35"
      },
      "outputs": [
        {
          "name": "stdout",
          "output_type": "stream",
          "text": [
            "\n",
            "\n",
            "\u001b[1m> Entering new AgentExecutor chain...\u001b[0m\n",
            "\u001b[32;1m\u001b[1;3m\n",
            "First, I will search for the 3 tech companies with the highest market cap in the United States in 2024. Then, I will search for the number of full-time employees at each of these companies. Finally, I will use Python to create a plot of the number of full-time employees at these companies.\n",
            "{'tool_name': 'internet_search', 'parameters': {'query': '3 tech companies with highest market cap in the United States 2024'}}\n",
            "\u001b[0m\u001b[36;1m\u001b[1;3m[{'url': 'https://simplywall.st/stocks/us/tech/market-cap-large', 'content': 'United States / Largest U.S. Tech Stocks by Market Cap. UPDATED Apr 25, 2024. Discover large cap U.S. Tech companies that are on the NYSE and NASDAQ. These Tech Companies are organised by Market Cap. 🇺🇸 US Market Tech. Advanced Filters. Market Cap High to Low. 208 companies ...'}, {'url': 'https://www.statista.com/statistics/1350976/leading-tech-companies-worldwide-by-market-cap/', 'content': 'Digital & Trend reports\\nOverview and forecasts on trending topics\\nIndustry & Market reports\\nIndustry and market insights and forecasts\\nCompanies & Products reports\\nKey figures and rankings about companies and products\\nConsumer & Brand reports\\nConsumer and brand insights and preferences in various industries\\nPolitics & Society reports\\nDetailed information about political and social topics\\nCountry & Region reports\\nAll key figures about countries and regions\\nMarket forecast and expert KPIs for 1000+ markets in 190+ countries & territories\\nInsights on consumer attitudes and behavior worldwide\\nBusiness information on 100m+ public and private companies\\nExplore Company Insights\\nDetailed information for 39,000+ online stores and marketplaces\\nDirectly accessible data for 170 industries from 150+ countries\\nand over 1\\xa0Mio. facts.\\n Other statistics on the topicAI chips\\nHardware\\nLeading semiconductor companies worldwide 2023, by market cap\\nHardware\\nSemiconductor market revenue growth worldwide 1988-2024\\nHardware\\nNvidia revenue worldwide 2015-2023, by segment\\nHardware\\nSemiconductor market size worldwide 2020-2030, by application\\nYou only have access to basic statistics.\\n Other statistics that may interest you\\nOther statistics that may interest you Statistics on\\nAbout the industry\\nAbout the region\\nOther regions\\nRelated statistics\\nFurther related statistics\\nFurther Content: You might find this interesting as well\\nStatistics\\nTopics Transforming data into design:\\nStatista Content & Design\\nStrategy and business building for the data-driven economy:\\nLeading tech companies worldwide 2023, by market cap\\nApple\\nSamsung\\nLeading tech companies worldwide 2023, by market capitalization\\n(in billion U.S. dollars)\\n Additional Information\\nShow sources information\\nShow publisher information\\nUse Ask Statista Research Service\\nAugust 2023\\nWorldwide\\n2023\\n'}, {'url': 'https://www.fool.com/research/largest-companies-by-market-cap/', 'content': \"It's the most valuable automaker in the world and has the world's best-selling car in the Model Y.\\nTesla is most famous for its vehicles, and it's second only to China's BYD Company (OTC:BYDDY) among the largest EV companies in terms of manufacturing. While it's most famous for Windows, Microsoft also has a diverse selection of products and services that has helped to build on its success, including:\\nMicrosoft has been the world's largest company before, and it briefly surpassed Apple for the biggest market cap in 2021. Walmart\\nWalmart (NYSE:WMT) may not have the largest market cap, but it is No. 1 in terms of revenue, and it’s the largest retailer in the world. Microsoft\\nConsidering the popularity of the Windows operating system, it’s no surprise that Microsoft (NASDAQ:MSFT) has consistently ranked as one of the largest companies in the world. Although the top spot has changed hands on multiple occasions, Apple has spent the most time there and is currently the most valuable company in the world.\\n\"}, {'url': 'https://ceoworld.biz/2024/02/17/the-united-states-largest-companies-by-market-capitalization-2024/', 'content': 'Christina Miller\\nUP NEXT\\n20 Biggest Gold Companies in Australia, 2024\\nWestern Bulk Chartering AS Appoints Ørjan Svanevik as Interim CEO\\nVolvo Trucks UK & Ireland Welcomes New Financial Leadership\\nPrometheum Appoints Wall Street Veteran Albert Meo as CFO\\nNikola Welcomes Thomas Okray as CFO\\nLet’s stay in touch\\nCompany Info\\nFind us on socials\\nWho we are?\\n This list comprises the biggest companies currently in the United States by market cap in 2024:\\nThe United States Largest Companies by market capitalization, 2024\\nMarket capitalization, commonly known as market cap, refers to the total market value of a company’s outstanding shares. Overall, among the United States’ top 10 largest companies by market capitalization, the sixth, seventh, eighth, ninth, and tenth positions are held by Meta Platforms, Berkshire Hathaway, Eli Lilly And Company, Tesla, and Broadcom Inc.\\nWhich one is the most valuable in the United States by market cap? The United States’ Largest Companies by market capitalization, 2024\\nAs of March 3, 2024, Microsoft is the most valuable company in the United States, with a market cap of $3074 billion. Stocks are often categorized by market cap: mega-cap ($100 billion-plus), large-cap ($10 billion-$100 billion), mid-cap ($2 billion-$10 billion), small-cap ($300 million-$2 billion), and micro-cap (less than $300 million).\\n'}, {'url': 'https://disfold.com/united-states/sector/technology/companies/', 'content': 'Unlock Financial AI:\\nStart your Free Trial of\\nDisfold AI, Now!\\nTop Technology Companies from the United States as of Jan. 01, 2024\\n(Dec. 1, 2023)\\nTop Technology Companies from the United States as of Jan. 01, 2024\\n1.\\nApple\\nMarket Cap (USD):\\n$2.866 T\\nStock:\\nAAPL\\nwb_incandescent\\nCountry:\\nUnited States\\nSector:\\nTechnology\\nIndustry:\\nConsumer Electronics\\n2.\\nMicrosoft\\nMarket Cap (USD):\\n$2.755 T\\nStock:\\nMSFT\\nwb_incandescent\\nCountry:\\nUnited States\\nSector:\\nTechnology\\nIndustry:\\nSoftware—Infrastructure\\n3.\\nNvidia\\nMarket Cap (USD):\\n$1.186 T\\nStock:\\nNVDA\\nwb_incandescent\\nCountry:\\nUnited States\\nSector:\\nTechnology\\nIndustry:\\nSemiconductors\\n4.\\nBroadcom\\nMarket Cap (USD):\\n$495.95 B\\nStock:\\nAVGO\\nwb_incandescent\\nCountry:\\nUnited States\\nSector:\\nTechnology\\nIndustry:\\nSemiconductors\\n5.\\nOracle\\nMarket Cap (USD):\\n$282.01 B\\nStock:\\nORCL\\nwb_incandescent\\nCountry:\\nUnited States\\nSector:\\nTechnology\\nIndustry:\\nSoftware—Infrastructure\\n6.\\n Marvell Technology, Inc.\\nMarket Cap (USD):\\n$49.61 B\\nStock:\\n9MW\\nwb_incandescent\\nCountry:\\nUnited States\\nSector:\\nTechnology\\nIndustry:\\nSemiconductors\\n35.\\nAutodesk, Inc.\\nMarket Cap (USD):\\n$48.97 B\\nStock:\\nADSK\\nwb_incandescent\\nCountry:\\nUnited States\\nSector:\\nTechnology\\nIndustry:\\nSoftware—Application\\n36.\\nMicrochip Technology Incorporated\\nMarket Cap (USD):\\n$45.77 B\\nStock:\\nMCHP\\nwb_incandescent\\nCountry:\\nUnited States\\nSector:\\nTechnology\\nIndustry:\\nSemiconductors\\n37.\\nFortinet, Inc.\\nMarket Cap (USD):\\n$44.84 B\\nStock:\\n Analog Devices\\nMarket Cap (USD):\\n$93.79 B\\nStock:\\nADI\\nwb_incandescent\\nCountry:\\nUnited States\\nSector:\\nTechnology\\nIndustry:\\nSemiconductors\\n20.\\nMicron Technology, Inc.\\nMarket Cap (USD):\\n$91.30 B\\nStock:\\nMU\\nwb_incandescent\\nCountry:\\nUnited States\\nSector:\\nTechnology\\nIndustry:\\nSemiconductors\\n21.\\nPalo Alto Networks\\nMarket Cap (USD):\\n$90.41 B\\nStock:\\nPANW\\nwb_incandescent\\nCountry:\\nUnited States\\nSector:\\nTechnology\\nIndustry:\\nSoftware—Infrastructure\\n22.\\n Fiserv\\nMarket Cap (USD):\\n$79.73 B\\nStock:\\nFI\\nwb_incandescent\\nCountry:\\nUnited States\\nSector:\\nTechnology\\nIndustry:\\nInformation Technology Services\\n23.\\nKLA\\nMarket Cap (USD):\\n$75.13 B\\nStock:\\nKLAC\\nwb_incandescent\\nCountry:\\nUnited States\\nSector:\\nTechnology\\nIndustry:\\nSemiconductor Equipment & Materials\\n24.\\nSynopsys\\nMarket Cap (USD):\\n$74.64 B\\nStock:\\nSNPS\\nwb_incandescent\\nCountry:\\nUnited States\\nSector:\\nTechnology\\nIndustry:\\nSoftware—Infrastructure\\n25.\\n Salesforce\\nMarket Cap (USD):\\n$243.78 B\\nStock:\\nCRM\\nwb_incandescent\\nCountry:\\nUnited States\\nSector:\\nTechnology\\nIndustry:\\nSoftware—Application\\n8.\\nAMD\\nMarket Cap (USD):\\n$219.72 B\\nStock:\\nAMD\\nwb_incandescent\\nCountry:\\nUnited States\\nSector:\\nTechnology\\nIndustry:\\nSemiconductors\\n9.\\nCisco\\nMarket Cap (USD):\\n$205.21 B\\nStock:\\nCSCO\\nwb_incandescent\\nCountry:\\nUnited States\\nSector:\\nTechnology\\nIndustry:\\nCommunication Equipment\\n10.\\n'}]\u001b[0m\u001b[32;1m\u001b[1;3m\n",
            "I found that the 3 tech companies with the highest market cap in the United States in 2024 are Apple, Microsoft, and Nvidia. Now, I will search for the number of full-time employees at each of these companies.\n",
            "{'tool_name': 'internet_search', 'parameters': {'query': 'number of full time employees at apple 2024'}}\n",
            "\u001b[0m\u001b[36;1m\u001b[1;3m[{'url': 'https://www.globaldata.com/data-insights/technology-media-and-telecom/apples-Number-of-employees/', 'content': 'Related Data & Insights\\nRelated Companies\\nUnited States of America\\nUnited States of America\\nUnited States of America\\nSouth Korea\\nTaiwan\\nUnited States of America\\nUnited States of America\\nUnited States of America\\nUnited States of America\\nJapan\\nDon’t wait - discover a universe of connected data & insights with your next search. Data & Insights\\nInsight by Sector\\nInsight Type\\nThemes\\nKey Themes\\nESG Factors\\nSearch our premium data\\nApple’s Number of Employees (FY2017 – FY2022)\\n Apple sells and distributes digital content and applications through the Apple Store, App Store, Apple Arcade, Apple News+, Apple Fitness+, Apple Card, Apple Pay, and Apple Music. Number of Employees: Apple\\nApple is an American multinational company that produces desktop computers, laptops, tablets, smartphones, computer accessories, and software headquartered in Cupertino, California, United States. Access more premium companies when you subscribe to Explorer\\nGet in touch about GlobalData Company reports\\nContact the team or request a demo to find out how our data can drive your business forward'}, {'url': 'https://www.apple.com/newsroom/2024/02/apple-reports-first-quarter-results/', 'content': 'The latest news and updates,\\ndirect from Apple.\\nRead more\\nApple Footer\\nShop and Learn\\nShop and Learn\\n+\\nApple Wallet\\nApple Wallet\\n+\\nAccount\\nAccount\\n+\\nEntertainment\\nEntertainment\\n+\\nApple Store\\nApple Store\\n+\\nFor Business\\nFor Business\\n+\\nFor Education\\nFor Education\\n+\\nFor Healthcare\\nFor Healthcare\\n+\\nFor Government\\nFor Government\\n+\\nApple Values\\nApple Values\\n+\\nAbout Apple\\nAbout Apple\\n+ Risks and uncertainties include without limitation: effects of global and regional economic conditions, including as a result of government policies, war, terrorism, natural disasters, and public health issues; risks relating to the design, manufacture, introduction, and transition of products and services in highly competitive and rapidly changing markets, including from reliance on third parties for components, technology, manufacturing, applications, and content; risks relating to information technology system failures, network disruptions, and failure to protect, loss of, or unauthorized access to, or release of, data; and effects of unfavorable legal proceedings, government investigations, and complex and changing laws and regulations. Press Contact\\nJosh Rosenstock\\nApple\\njrosenstock@apple.com\\n(408) 862-1142\\nInvestor Relations Contact\\nSuhasini Chandramouli\\nApple\\nsuhasini@apple.com\\n(408) 974-3123\\n More information on these risks and other potential factors that could affect the Company’s business, reputation, results of operations, financial condition, and stock price is included in the Company’s filings with the SEC, including in the “Risk Factors” and “Management’s Discussion and Analysis of Financial Condition and Results of Operations” sections of the Company’s most recently filed periodic reports on Form 10-K and Form 10-Q and subsequent filings. Apple’s five software platforms — iOS, iPadOS, macOS, watchOS, and tvOS — provide seamless experiences across all Apple devices and empower people with breakthrough services including the App Store, Apple Music, Apple Pay, and iCloud.'}, {'url': 'https://stockanalysis.com/stocks/aapl/employees/', 'content': 'Apple had 161,000 employees on September 30, 2023. The number of employees decreased by 3,000 or -1.83% compared to the previous year. Employees 161,000. Change (1Y) -3,000. Growth (1Y) -1.83%. Revenue / Employee ... Real-time quotes provided by IEX Cloud. Other market data may be delayed by 15 minutes or more.'}, {'url': 'https://www.statista.com/statistics/273439/number-of-employees-of-apple-since-2005/', 'content': 'Digital & Trend reports\\nOverview and forecasts on trending topics\\nIndustry & Market reports\\nIndustry and market insights and forecasts\\nCompanies & Products reports\\nKey figures and rankings about companies and products\\nConsumer & Brand reports\\nConsumer and brand insights and preferences in various industries\\nPolitics & Society reports\\nDetailed information about political and social topics\\nCountry & Region reports\\nAll key figures about countries and regions\\nMarket forecast and expert KPIs for 1000+ markets in 190+ countries & territories\\nInsights on consumer attitudes and behavior worldwide\\nBusiness information on 100m+ public and private companies\\nExplore Company Insights\\nDetailed information for 39,000+ online stores and marketplaces\\nDirectly accessible data for 170 industries from 150+ countries\\nand over 1\\xa0Mio. facts.\\n Other statistics on the topicApple\\nConsumer Electronics\\nApple\\'s revenue worldwide 2004-2023\\nConsumer Electronics\\nApple\\'s revenue broken down by geographical region 2012-2023, by quarter\\nTelecommunications\\nQuarterly market share of smartphone vendors in the U.S. 2016-2023\\nConsumer Electronics\\nApple: expenditure on research and development 2007-2023\\nTo download this statistic in XLS format you need a Statista Account\\nTo download this statistic in PNG format you need a Statista Account\\nTo download this statistic in PDF format you need a Statista Account\\nTo download this statistic in PPT format you need a Statista Account\\nAs a Premium user you get access to the detailed source references and background information about this statistic.\\n Statistics on\\n\"\\nApple in the U.S.\\n\"\\nOther statistics that may interest you Apple in the U.S.\\nOverview: Apple\\nOverview: Apple in the U.S.\\nSegment: iPhone\\nSegment: iPad\\nSegment: Mac\\nSegment: Wearables & Smart home\\nFurther related statistics\\nFurther Content: You might find this interesting as well\\nStatistics\\nTopics Number of employees of Apple 2005-2023\\nApple Corporation – additional information\\nApple products\\nApple\\'s number of employees in the fiscal years 2005 to 2023\\n(in 1,000s)\\nAdditional Information\\nShow sources information\\nShow publisher information\\nUse Ask Statista Research Service\\nNovember 2023\\nWorldwide\\n2005 to 2023\\n Transforming data into design:\\nStatista Content & Design\\nStrategy and business building for the data-driven economy:\\nIndustry-specific and extensively researched technical data (partially from exclusive partnerships).'}, {'url': 'https://www.macrotrends.net/stocks/charts/AAPL/apple/number-of-employees', 'content': 'Employee Count. Interactive chart of Apple (AAPL) annual worldwide employee count from 2010 to 2023. Apple total number of employees in 2023 was 161,000, a 1.83% decline from 2022. Apple total number of employees in 2022 was 164,000, a 6.49% increase from 2021. Apple total number of employees in 2021 was 154,000, a 4.76% increase from 2020.'}]\u001b[0m\u001b[32;1m\u001b[1;3m\n",
            "{'tool_name': 'internet_search', 'parameters': {'query': 'number of full time employees at microsoft 2024'}}\n",
            "\u001b[0m\u001b[36;1m\u001b[1;3m[{'url': 'https://www.macrotrends.net/stocks/charts/MSFT/microsoft/number-of-employees', 'content': 'Interactive chart of Microsoft (MSFT) annual worldwide employee count from 2010 to 2023. Microsoft total number of employees in 2023 was 221,000, a 0% decline from 2022. Microsoft total number of employees in 2022 was 221,000, a 22.1% increase from 2021. Microsoft total number of employees in 2021 was 181,000, a 11.04% increase from 2020.'}, {'url': 'https://finance.yahoo.com/quote/MSFT/profile/', 'content': 'Additionally, this segment provides gaming, which includes Xbox hardware and content, and first- and third-party content; Xbox game pass and other subscriptions, cloud gaming, advertising, third-party disc royalties, and other cloud services; and search and news advertising, which includes Bing, Microsoft News and Edge, and third-party affiliates. The Intelligent Cloud segment offers server products and cloud services, such as azure and other cloud services; SQL and windows server, visual studio, system center, and related client access licenses, as well as nuance and GitHub; and enterprise services including enterprise support services, industry solutions, and nuance professional services. The More Personal Computing segment offers Windows, including windows OEM licensing and other non-volume licensing of the Windows operating system; Windows commercial comprising volume licensing of the Windows operating system, windows cloud services, and other Windows commercial offerings; patent licensing; and windows Internet of Things; and devices, such as surface, HoloLens, and PC accessories. The Productivity and Business Processes segment offers office, exchange, SharePoint, Microsoft Teams, office 365 Security and Compliance, Microsoft viva, and Microsoft 365 copilot; and office consumer services, such as Microsoft 365 consumer subscriptions, Office licensed on-premises, and other office services. Microsoft Corporation (MSFT)\\nMicrosoft Corporation\\nOne Microsoft WayRedmond, WA 98052-6399United States425 882 8080https://www.microsoft.com\\nSector(s):\\xa0TechnologyIndustry:\\xa0Software - InfrastructureFull Time Employees:\\xa0221,000\\nKey Executives\\nDescription\\nMicrosoft Corporation develops and supports software, services, devices and solutions worldwide.'}, {'url': 'https://www.statista.com/statistics/273475/number-of-employees-at-the-microsoft-corporation-since-2005/', 'content': 'Digital & Trend reports\\nOverview and forecasts on trending topics\\nIndustry & Market reports\\nIndustry and market insights and forecasts\\nCompanies & Products reports\\nKey figures and rankings about companies and products\\nConsumer & Brand reports\\nConsumer and brand insights and preferences in various industries\\nPolitics & Society reports\\nDetailed information about political and social topics\\nCountry & Region reports\\nAll key figures about countries and regions\\nMarket forecast and expert KPIs for 1000+ markets in 190+ countries & territories\\nInsights on consumer attitudes and behavior worldwide\\nBusiness information on 100m+ public and private companies\\nExplore Company Insights\\nDetailed information for 39,000+ online stores and marketplaces\\nDirectly accessible data for 170 industries from 150+ countries\\nand over 1\\xa0Mio. facts.\\n Other statistics on the topicMicrosoft\\nSoftware\\nMicrosoft\\'s expenditure on research and development 2002-2023\\nSoftware\\nOffice productivity software market share worldwide 2022\\nIT Services\\nCloud infrastructure services market share quarterly worldwide 2017-2022, by vendor\\nSoftware\\nMicrosoft\\'s revenue 2008-2024, by fiscal quarter\\nTo download this statistic in XLS format you need a Statista Account\\nTo download this statistic in PNG format you need a Statista Account\\nTo download this statistic in PDF format you need a Statista Account\\nTo download this statistic in PPT format you need a Statista Account\\nAs a Premium user you get access to the detailed source references and background information about this statistic.\\n Statistics on\\n\"\\nMicrosoft\\n\"\\nOther statistics that may interest you Microsoft\\nOverview\\nCompany financials\\nSegments\\nCompetitors: Software\\nCompetitors: Cloud\\nCompetitors: Devices\\nFurther related statistics\\nFurther Content: You might find this interesting as well\\nStatistics\\nTopics Number of Microsoft employees 2005-2023\\nHow many employees does Microsoft have?\\nNumber of employees at the Microsoft Corporation from 2005 to 2023\\n(in 1,000s)\\nAdditional Information\\nShow sources information\\nShow publisher information\\nUse Ask Statista Research Service\\nJuly 2023\\nWorldwide\\n2005 to 2023\\nMicrosoft\\'s fiscal year ends on June 30.\\n Transforming data into design:\\nStatista Content & Design\\nStrategy and business building for the data-driven economy:\\nIndustry-specific and extensively researched technical data (partially from exclusive partnerships).'}, {'url': 'https://stockanalysis.com/stocks/msft/employees/', 'content': 'Microsoft had 221,000 employees on June 30, 2023. The number of employees did not change compared to the previous year. Employees 221,000. Change (1Y) n/a. Growth (1Y) n/a. Revenue / Employee $1,070,516. Profits / Employee ... Real-time quotes provided by IEX Cloud. Other market data may be delayed by 15 minutes or more.'}, {'url': 'https://www.microsoft.com/investor/reports/ar23/index.html', 'content': 'As of June 30, 2023, we employed approximately 221,000 people on a full-time basis, 120,000 in the U.S. and 101,000 internationally. Of the total employed people, 89,000 were in operations, including manufacturing, distribution, product support, and consulting services; 72,000 were in product research and development; 45,000 were in sales and ...'}]\u001b[0m\u001b[32;1m\u001b[1;3m\n",
            "{'tool_name': 'internet_search', 'parameters': {'query': 'number of full time employees at nvidia 2024'}}\n",
            "\u001b[0m\u001b[36;1m\u001b[1;3m[{'url': 'https://www.statista.com/statistics/1369575/nvidia-number-of-employees-by-region/', 'content': 'Digital & Trend reports\\nOverview and forecasts on trending topics\\nIndustry & Market reports\\nIndustry and market insights and forecasts\\nCompanies & Products reports\\nKey figures and rankings about companies and products\\nConsumer & Brand reports\\nConsumer and brand insights and preferences in various industries\\nPolitics & Society reports\\nDetailed information about political and social topics\\nCountry & Region reports\\nAll key figures about countries and regions\\nMarket forecast and expert KPIs for 1000+ markets in 190+ countries & territories\\nInsights on consumer attitudes and behavior worldwide\\nBusiness information on 100m+ public and private companies\\nExplore Company Insights\\nDetailed information for 39,000+ online stores and marketplaces\\nDirectly accessible data for 170 industries from 150+ countries\\nand over 1\\xa0Mio. facts.\\n Other statistics on the topicNvidia\\nHardware\\nSemiconductor market revenue worldwide 1987-2024\\nHardware\\nLeading semiconductor companies worldwide 2024, by market cap\\nHardware\\nSemiconductor companies market revenue share worldwide 2008-2023\\nHardware\\nSemiconductor market revenue growth worldwide 1988-2024\\nTo download this statistic in XLS format you need a Statista Account\\nTo download this statistic in PNG format you need a Statista Account\\nTo download this statistic in PDF format you need a Statista Account\\nTo download this statistic in PPT format you need a Statista Account\\nAs a Premium user you get access to the detailed source references and background information about this statistic.\\n Nvidia number of employees 2023, by region\\nNvidia number of employees in 2023, by region\\nAdditional Information\\nShow sources information\\nShow publisher information\\nUse Ask Statista Research Service\\nJuly 2023\\nWorldwide\\n2023\\nIncludes full-time and part-time employees.\\n Statistics on\\n\"\\nNvidia\\n\"\\nOther statistics that may interest you Nvidia\\nOverview\\nFinancials\\nSegments\\nESG\\nCompetitors\\nFurther Content: You might find this interesting as well\\nTopics Transforming data into design:\\nStatista Content & Design\\nStrategy and business building for the data-driven economy:\\nIndustry-specific and extensively researched technical data (partially from exclusive partnerships).'}, {'url': 'https://stocklight.com/stocks/us/nasdaq-nvda/nvidia/annual-reports/nasdaq-nvda-2024-10K-24660316.pdf', 'content': \"The number of shares of common stock outstanding as of February 16, 2024 was 2.5 billion. DOCUMENTS INCORPORATED BY REFERENCE Portions of the registrant's Proxy Statement for its 2024 Annual Meeting of Shareholders to be ﬁled with the Securities and Exchange Commission pursuant to Regulation 14A not later than 120 days after the end of the\"}, {'url': 'https://stockanalysis.com/stocks/nvda/employees/', 'content': 'NVIDIA had 29,600 employees on January 28, 2024. The number of employees increased by 3,404 or 12.99% compared to the previous year. Employees 29,600. Change (1Y) 3,404. ... Real-time quotes provided by IEX Cloud. Other market data may be delayed by 15 minutes or more. ...'}, {'url': 'https://www.macrotrends.net/stocks/charts/NVDA/nvidia/number-of-employees', 'content': 'Employee Count. Interactive chart of NVIDIA (NVDA) annual worldwide employee count from 2010 to 2024. NVIDIA total number of employees in 2024 was 29,600, a 12.99% increase from 2023. NVIDIA total number of employees in 2023 was 26,196, a 16.57% increase from 2022. NVIDIA total number of employees in 2022 was 22,473, a 18.43% increase from 2021.'}, {'url': 'https://investor.nvidia.com/news/press-release-details/2024/NVIDIA-Announces-Financial-Results-for-Fourth-Quarter-and-Fiscal-2024/?ref=robotradingnet.ghost.io', 'content': 'SANTA CLARA, Calif., Feb. 21, 2024 (GLOBE NEWSWIRE) -- NVIDIA (NASDAQ: NVDA) today reported revenue for the fourth quarter ended January 28, 2024, of $22.1 billion, up 22% from the previous quarter and up 265% from a year ago. For the quarter, GAAP earnings per diluted share was $4.93, up 33% from the previous quarter and up 765% from a year ...'}]\u001b[0m"
          ]
        },
        {
          "name": "stderr",
          "output_type": "stream",
          "text": [
            "WARNING:langchain_experimental.utilities.python:Python REPL can execute arbitrary code. Use with caution.\n"
          ]
        },
        {
          "name": "stdout",
          "output_type": "stream",
          "text": [
            "\u001b[32;1m\u001b[1;3m\n",
            "I found that the number of full-time employees at Apple, Microsoft, and Nvidia as of 2023 are 161,000, 221,000, and 29,600, respectively. Now, I will use Python to create a plot of the number of full-time employees at these companies.\n",
            "{'tool_name': 'python_interpreter', 'parameters': {'code': 'import matplotlib.pyplot as plt\\n\\n# Number of full-time employees at the 3 tech companies\\nnum_employees = [161000, 221000, 29600]\\ncompanies = [\"Apple\", \"Microsoft\", \"Nvidia\"]\\n\\n# Create a bar plot\\nplt.bar(companies, num_employees)\\n\\n# Add labels and title\\nplt.xlabel(\"Company\")\\nplt.ylabel(\"Number of Full-Time Employees\")\\nplt.title(\"Number of Full-Time Employees at the Top 3 Tech Companies in the US\")\\n\\n# Save the plot\\nplt.savefig(\"number_of_full_time_employees.png\")'}}\n",
            "\u001b[0m\u001b[33;1m\u001b[1;3m\u001b[0m\u001b[32;1m\u001b[1;3mRelevant Documents: 2,3,4,7,9,10,11,13,14,17,18,20\n",
            "Cited Documents: 2,3,4,7,9,10,11,13,14,17,18,20\n",
            "Answer: Here is a plot showing the number of full-time employees at the 3 tech companies with the highest market cap in the United States in 2024:\n",
            "\n",
            "![Number of Full-Time Employees](number_of_full_time_employees.png)\n",
            "\n",
            "The number of full-time employees at Apple, Microsoft, and Nvidia as of 2023 are 161,000, 221,000, and 29,600, respectively.\n",
            "Grounded answer: Here is a plot showing the number of full-time employees at the 3 tech companies with the highest market cap in the United States in 2024:\n",
            "\n",
            "<co: 20>! [Number of Full-Time Employees](number_of_full_time_employees.png)</co: 20>\n",
            "\n",
            "The number of full-time employees at <co: 2,4,7,9>Apple</co: 2,4,7,9>, <co: 2,3,4,10,11,13,14>Microsoft</co: 2,3,4,10,11,13,14>, and <co: 4,17,18>Nvidia</co: 4,17,18> as of <co: 7,9,10,13,17,18>2023</co: 7,9,10,13,17,18> are <co: 7,9>161,000</co: 7,9>, <co: 10,11,13,14>221,000</co: 10,11,13,14>, and <co: 17,18>29,600</co: 17,18>, respectively.\u001b[0m\n",
            "\n",
            "\u001b[1m> Finished chain.\u001b[0m\n"
          ]
        },
        {
          "data": {
            "text/plain": [
              "{'input': 'Create a plot of the number of full time employees at the 3 tech companies with the highest market cap in the United States in 2024.',\n",
              " 'output': 'Here is a plot showing the number of full-time employees at the 3 tech companies with the highest market cap in the United States in 2024:\\n\\n! [Number of Full-Time Employees](number_of_full_time_employees.png)\\n\\nThe number of full-time employees at Apple, Microsoft, and Nvidia as of 2023 are 161,000, 221,000, and 29,600, respectively.',\n",
              " 'citations': [CohereCitation(start=140, end=208, text='! [Number of Full-Time Employees](number_of_full_time_employees.png)', documents=[{'output': '', 'id': 'doc_20'}], document_ids={'doc_20'}),\n",
              "  CohereCitation(start=247, end=252, text='Apple', documents=[{'url': 'https://www.macrotrends.net/stocks/charts/AAPL/apple/number-of-employees', 'content': 'Employee Count. Interactive chart of Apple (AAPL) annual worldwide employee count from 2010 to 2023. Apple total number of employees in 2023 was 161,000, a 1.83% decline from 2022. Apple total number of employees in 2022 was 164,000, a 6.49% increase from 2021. Apple total number of employees in 2021 was 154,000, a 4.76% increase from 2020.', 'id': 'doc_9'}, {'url': 'https://www.fool.com/research/largest-companies-by-market-cap/', 'content': \"It's the most valuable automaker in the world and has the world's best-selling car in the Model Y.\\nTesla is most famous for its vehicles, and it's second only to China's BYD Company (OTC:BYDDY) among the largest EV companies in terms of manufacturing. While it's most famous for Windows, Microsoft also has a diverse selection of products and services that has helped to build on its success, including:\\nMicrosoft has been the world's largest company before, and it briefly surpassed Apple for the biggest market cap in 2021. Walmart\\nWalmart (NYSE:WMT) may not have the largest market cap, but it is No. 1 in terms of revenue, and it’s the largest retailer in the world. Microsoft\\nConsidering the popularity of the Windows operating system, it’s no surprise that Microsoft (NASDAQ:MSFT) has consistently ranked as one of the largest companies in the world. Although the top spot has changed hands on multiple occasions, Apple has spent the most time there and is currently the most valuable company in the world.\\n\", 'id': 'doc_2'}, {'url': 'https://disfold.com/united-states/sector/technology/companies/', 'content': 'Unlock Financial AI:\\nStart your Free Trial of\\nDisfold AI, Now!\\nTop Technology Companies from the United States as of Jan. 01, 2024\\n(Dec. 1, 2023)\\nTop Technology Companies from the United States as of Jan. 01, 2024\\n1.\\nApple\\nMarket Cap (USD):\\n$2.866 T\\nStock:\\nAAPL\\nwb_incandescent\\nCountry:\\nUnited States\\nSector:\\nTechnology\\nIndustry:\\nConsumer Electronics\\n2.\\nMicrosoft\\nMarket Cap (USD):\\n$2.755 T\\nStock:\\nMSFT\\nwb_incandescent\\nCountry:\\nUnited States\\nSector:\\nTechnology\\nIndustry:\\nSoftware—Infrastructure\\n3.\\nNvidia\\nMarket Cap (USD):\\n$1.186 T\\nStock:\\nNVDA\\nwb_incandescent\\nCountry:\\nUnited States\\nSector:\\nTechnology\\nIndustry:\\nSemiconductors\\n4.\\nBroadcom\\nMarket Cap (USD):\\n$495.95 B\\nStock:\\nAVGO\\nwb_incandescent\\nCountry:\\nUnited States\\nSector:\\nTechnology\\nIndustry:\\nSemiconductors\\n5.\\nOracle\\nMarket Cap (USD):\\n$282.01 B\\nStock:\\nORCL\\nwb_incandescent\\nCountry:\\nUnited States\\nSector:\\nTechnology\\nIndustry:\\nSoftware—Infrastructure\\n6.\\n Marvell Technology, Inc.\\nMarket Cap (USD):\\n$49.61 B\\nStock:\\n9MW\\nwb_incandescent\\nCountry:\\nUnited States\\nSector:\\nTechnology\\nIndustry:\\nSemiconductors\\n35.\\nAutodesk, Inc.\\nMarket Cap (USD):\\n$48.97 B\\nStock:\\nADSK\\nwb_incandescent\\nCountry:\\nUnited States\\nSector:\\nTechnology\\nIndustry:\\nSoftware—Application\\n36.\\nMicrochip Technology Incorporated\\nMarket Cap (USD):\\n$45.77 B\\nStock:\\nMCHP\\nwb_incandescent\\nCountry:\\nUnited States\\nSector:\\nTechnology\\nIndustry:\\nSemiconductors\\n37.\\nFortinet, Inc.\\nMarket Cap (USD):\\n$44.84 B\\nStock:\\n Analog Devices\\nMarket Cap (USD):\\n$93.79 B\\nStock:\\nADI\\nwb_incandescent\\nCountry:\\nUnited States\\nSector:\\nTechnology\\nIndustry:\\nSemiconductors\\n20.\\nMicron Technology, Inc.\\nMarket Cap (USD):\\n$91.30 B\\nStock:\\nMU\\nwb_incandescent\\nCountry:\\nUnited States\\nSector:\\nTechnology\\nIndustry:\\nSemiconductors\\n21.\\nPalo Alto Networks\\nMarket Cap (USD):\\n$90.41 B\\nStock:\\nPANW\\nwb_incandescent\\nCountry:\\nUnited States\\nSector:\\nTechnology\\nIndustry:\\nSoftware—Infrastructure\\n22.\\n Fiserv\\nMarket Cap (USD):\\n$79.73 B\\nStock:\\nFI\\nwb_incandescent\\nCountry:\\nUnited States\\nSector:\\nTechnology\\nIndustry:\\nInformation Technology Services\\n23.\\nKLA\\nMarket Cap (USD):\\n$75.13 B\\nStock:\\nKLAC\\nwb_incandescent\\nCountry:\\nUnited States\\nSector:\\nTechnology\\nIndustry:\\nSemiconductor Equipment & Materials\\n24.\\nSynopsys\\nMarket Cap (USD):\\n$74.64 B\\nStock:\\nSNPS\\nwb_incandescent\\nCountry:\\nUnited States\\nSector:\\nTechnology\\nIndustry:\\nSoftware—Infrastructure\\n25.\\n Salesforce\\nMarket Cap (USD):\\n$243.78 B\\nStock:\\nCRM\\nwb_incandescent\\nCountry:\\nUnited States\\nSector:\\nTechnology\\nIndustry:\\nSoftware—Application\\n8.\\nAMD\\nMarket Cap (USD):\\n$219.72 B\\nStock:\\nAMD\\nwb_incandescent\\nCountry:\\nUnited States\\nSector:\\nTechnology\\nIndustry:\\nSemiconductors\\n9.\\nCisco\\nMarket Cap (USD):\\n$205.21 B\\nStock:\\nCSCO\\nwb_incandescent\\nCountry:\\nUnited States\\nSector:\\nTechnology\\nIndustry:\\nCommunication Equipment\\n10.\\n', 'id': 'doc_4'}, {'url': 'https://stockanalysis.com/stocks/aapl/employees/', 'content': 'Apple had 161,000 employees on September 30, 2023. The number of employees decreased by 3,000 or -1.83% compared to the previous year. Employees 161,000. Change (1Y) -3,000. Growth (1Y) -1.83%. Revenue / Employee ... Real-time quotes provided by IEX Cloud. Other market data may be delayed by 15 minutes or more.', 'id': 'doc_7'}], document_ids={'doc_9', 'doc_4', 'doc_2', 'doc_7'}),\n",
              "  CohereCitation(start=254, end=263, text='Microsoft', documents=[{'url': 'https://www.fool.com/research/largest-companies-by-market-cap/', 'content': \"It's the most valuable automaker in the world and has the world's best-selling car in the Model Y.\\nTesla is most famous for its vehicles, and it's second only to China's BYD Company (OTC:BYDDY) among the largest EV companies in terms of manufacturing. While it's most famous for Windows, Microsoft also has a diverse selection of products and services that has helped to build on its success, including:\\nMicrosoft has been the world's largest company before, and it briefly surpassed Apple for the biggest market cap in 2021. Walmart\\nWalmart (NYSE:WMT) may not have the largest market cap, but it is No. 1 in terms of revenue, and it’s the largest retailer in the world. Microsoft\\nConsidering the popularity of the Windows operating system, it’s no surprise that Microsoft (NASDAQ:MSFT) has consistently ranked as one of the largest companies in the world. Although the top spot has changed hands on multiple occasions, Apple has spent the most time there and is currently the most valuable company in the world.\\n\", 'id': 'doc_2'}, {'url': 'https://ceoworld.biz/2024/02/17/the-united-states-largest-companies-by-market-capitalization-2024/', 'content': 'Christina Miller\\nUP NEXT\\n20 Biggest Gold Companies in Australia, 2024\\nWestern Bulk Chartering AS Appoints Ørjan Svanevik as Interim CEO\\nVolvo Trucks UK & Ireland Welcomes New Financial Leadership\\nPrometheum Appoints Wall Street Veteran Albert Meo as CFO\\nNikola Welcomes Thomas Okray as CFO\\nLet’s stay in touch\\nCompany Info\\nFind us on socials\\nWho we are?\\n This list comprises the biggest companies currently in the United States by market cap in 2024:\\nThe United States Largest Companies by market capitalization, 2024\\nMarket capitalization, commonly known as market cap, refers to the total market value of a company’s outstanding shares. Overall, among the United States’ top 10 largest companies by market capitalization, the sixth, seventh, eighth, ninth, and tenth positions are held by Meta Platforms, Berkshire Hathaway, Eli Lilly And Company, Tesla, and Broadcom Inc.\\nWhich one is the most valuable in the United States by market cap? The United States’ Largest Companies by market capitalization, 2024\\nAs of March 3, 2024, Microsoft is the most valuable company in the United States, with a market cap of $3074 billion. Stocks are often categorized by market cap: mega-cap ($100 billion-plus), large-cap ($10 billion-$100 billion), mid-cap ($2 billion-$10 billion), small-cap ($300 million-$2 billion), and micro-cap (less than $300 million).\\n', 'id': 'doc_3'}, {'url': 'https://disfold.com/united-states/sector/technology/companies/', 'content': 'Unlock Financial AI:\\nStart your Free Trial of\\nDisfold AI, Now!\\nTop Technology Companies from the United States as of Jan. 01, 2024\\n(Dec. 1, 2023)\\nTop Technology Companies from the United States as of Jan. 01, 2024\\n1.\\nApple\\nMarket Cap (USD):\\n$2.866 T\\nStock:\\nAAPL\\nwb_incandescent\\nCountry:\\nUnited States\\nSector:\\nTechnology\\nIndustry:\\nConsumer Electronics\\n2.\\nMicrosoft\\nMarket Cap (USD):\\n$2.755 T\\nStock:\\nMSFT\\nwb_incandescent\\nCountry:\\nUnited States\\nSector:\\nTechnology\\nIndustry:\\nSoftware—Infrastructure\\n3.\\nNvidia\\nMarket Cap (USD):\\n$1.186 T\\nStock:\\nNVDA\\nwb_incandescent\\nCountry:\\nUnited States\\nSector:\\nTechnology\\nIndustry:\\nSemiconductors\\n4.\\nBroadcom\\nMarket Cap (USD):\\n$495.95 B\\nStock:\\nAVGO\\nwb_incandescent\\nCountry:\\nUnited States\\nSector:\\nTechnology\\nIndustry:\\nSemiconductors\\n5.\\nOracle\\nMarket Cap (USD):\\n$282.01 B\\nStock:\\nORCL\\nwb_incandescent\\nCountry:\\nUnited States\\nSector:\\nTechnology\\nIndustry:\\nSoftware—Infrastructure\\n6.\\n Marvell Technology, Inc.\\nMarket Cap (USD):\\n$49.61 B\\nStock:\\n9MW\\nwb_incandescent\\nCountry:\\nUnited States\\nSector:\\nTechnology\\nIndustry:\\nSemiconductors\\n35.\\nAutodesk, Inc.\\nMarket Cap (USD):\\n$48.97 B\\nStock:\\nADSK\\nwb_incandescent\\nCountry:\\nUnited States\\nSector:\\nTechnology\\nIndustry:\\nSoftware—Application\\n36.\\nMicrochip Technology Incorporated\\nMarket Cap (USD):\\n$45.77 B\\nStock:\\nMCHP\\nwb_incandescent\\nCountry:\\nUnited States\\nSector:\\nTechnology\\nIndustry:\\nSemiconductors\\n37.\\nFortinet, Inc.\\nMarket Cap (USD):\\n$44.84 B\\nStock:\\n Analog Devices\\nMarket Cap (USD):\\n$93.79 B\\nStock:\\nADI\\nwb_incandescent\\nCountry:\\nUnited States\\nSector:\\nTechnology\\nIndustry:\\nSemiconductors\\n20.\\nMicron Technology, Inc.\\nMarket Cap (USD):\\n$91.30 B\\nStock:\\nMU\\nwb_incandescent\\nCountry:\\nUnited States\\nSector:\\nTechnology\\nIndustry:\\nSemiconductors\\n21.\\nPalo Alto Networks\\nMarket Cap (USD):\\n$90.41 B\\nStock:\\nPANW\\nwb_incandescent\\nCountry:\\nUnited States\\nSector:\\nTechnology\\nIndustry:\\nSoftware—Infrastructure\\n22.\\n Fiserv\\nMarket Cap (USD):\\n$79.73 B\\nStock:\\nFI\\nwb_incandescent\\nCountry:\\nUnited States\\nSector:\\nTechnology\\nIndustry:\\nInformation Technology Services\\n23.\\nKLA\\nMarket Cap (USD):\\n$75.13 B\\nStock:\\nKLAC\\nwb_incandescent\\nCountry:\\nUnited States\\nSector:\\nTechnology\\nIndustry:\\nSemiconductor Equipment & Materials\\n24.\\nSynopsys\\nMarket Cap (USD):\\n$74.64 B\\nStock:\\nSNPS\\nwb_incandescent\\nCountry:\\nUnited States\\nSector:\\nTechnology\\nIndustry:\\nSoftware—Infrastructure\\n25.\\n Salesforce\\nMarket Cap (USD):\\n$243.78 B\\nStock:\\nCRM\\nwb_incandescent\\nCountry:\\nUnited States\\nSector:\\nTechnology\\nIndustry:\\nSoftware—Application\\n8.\\nAMD\\nMarket Cap (USD):\\n$219.72 B\\nStock:\\nAMD\\nwb_incandescent\\nCountry:\\nUnited States\\nSector:\\nTechnology\\nIndustry:\\nSemiconductors\\n9.\\nCisco\\nMarket Cap (USD):\\n$205.21 B\\nStock:\\nCSCO\\nwb_incandescent\\nCountry:\\nUnited States\\nSector:\\nTechnology\\nIndustry:\\nCommunication Equipment\\n10.\\n', 'id': 'doc_4'}, {'url': 'https://www.macrotrends.net/stocks/charts/MSFT/microsoft/number-of-employees', 'content': 'Interactive chart of Microsoft (MSFT) annual worldwide employee count from 2010 to 2023. Microsoft total number of employees in 2023 was 221,000, a 0% decline from 2022. Microsoft total number of employees in 2022 was 221,000, a 22.1% increase from 2021. Microsoft total number of employees in 2021 was 181,000, a 11.04% increase from 2020.', 'id': 'doc_10'}, {'url': 'https://finance.yahoo.com/quote/MSFT/profile/', 'content': 'Additionally, this segment provides gaming, which includes Xbox hardware and content, and first- and third-party content; Xbox game pass and other subscriptions, cloud gaming, advertising, third-party disc royalties, and other cloud services; and search and news advertising, which includes Bing, Microsoft News and Edge, and third-party affiliates. The Intelligent Cloud segment offers server products and cloud services, such as azure and other cloud services; SQL and windows server, visual studio, system center, and related client access licenses, as well as nuance and GitHub; and enterprise services including enterprise support services, industry solutions, and nuance professional services. The More Personal Computing segment offers Windows, including windows OEM licensing and other non-volume licensing of the Windows operating system; Windows commercial comprising volume licensing of the Windows operating system, windows cloud services, and other Windows commercial offerings; patent licensing; and windows Internet of Things; and devices, such as surface, HoloLens, and PC accessories. The Productivity and Business Processes segment offers office, exchange, SharePoint, Microsoft Teams, office 365 Security and Compliance, Microsoft viva, and Microsoft 365 copilot; and office consumer services, such as Microsoft 365 consumer subscriptions, Office licensed on-premises, and other office services. Microsoft Corporation (MSFT)\\nMicrosoft Corporation\\nOne Microsoft WayRedmond, WA 98052-6399United States425 882 8080https://www.microsoft.com\\nSector(s):\\xa0TechnologyIndustry:\\xa0Software - InfrastructureFull Time Employees:\\xa0221,000\\nKey Executives\\nDescription\\nMicrosoft Corporation develops and supports software, services, devices and solutions worldwide.', 'id': 'doc_11'}, {'url': 'https://stockanalysis.com/stocks/msft/employees/', 'content': 'Microsoft had 221,000 employees on June 30, 2023. The number of employees did not change compared to the previous year. Employees 221,000. Change (1Y) n/a. Growth (1Y) n/a. Revenue / Employee $1,070,516. Profits / Employee ... Real-time quotes provided by IEX Cloud. Other market data may be delayed by 15 minutes or more.', 'id': 'doc_13'}, {'url': 'https://www.microsoft.com/investor/reports/ar23/index.html', 'content': 'As of June 30, 2023, we employed approximately 221,000 people on a full-time basis, 120,000 in the U.S. and 101,000 internationally. Of the total employed people, 89,000 were in operations, including manufacturing, distribution, product support, and consulting services; 72,000 were in product research and development; 45,000 were in sales and ...', 'id': 'doc_14'}], document_ids={'doc_10', 'doc_14', 'doc_13', 'doc_4', 'doc_11', 'doc_2', 'doc_3'}),\n",
              "  CohereCitation(start=269, end=275, text='Nvidia', documents=[{'url': 'https://stockanalysis.com/stocks/nvda/employees/', 'content': 'NVIDIA had 29,600 employees on January 28, 2024. The number of employees increased by 3,404 or 12.99% compared to the previous year. Employees 29,600. Change (1Y) 3,404. ... Real-time quotes provided by IEX Cloud. Other market data may be delayed by 15 minutes or more. ...', 'id': 'doc_17'}, {'url': 'https://www.macrotrends.net/stocks/charts/NVDA/nvidia/number-of-employees', 'content': 'Employee Count. Interactive chart of NVIDIA (NVDA) annual worldwide employee count from 2010 to 2024. NVIDIA total number of employees in 2024 was 29,600, a 12.99% increase from 2023. NVIDIA total number of employees in 2023 was 26,196, a 16.57% increase from 2022. NVIDIA total number of employees in 2022 was 22,473, a 18.43% increase from 2021.', 'id': 'doc_18'}, {'url': 'https://disfold.com/united-states/sector/technology/companies/', 'content': 'Unlock Financial AI:\\nStart your Free Trial of\\nDisfold AI, Now!\\nTop Technology Companies from the United States as of Jan. 01, 2024\\n(Dec. 1, 2023)\\nTop Technology Companies from the United States as of Jan. 01, 2024\\n1.\\nApple\\nMarket Cap (USD):\\n$2.866 T\\nStock:\\nAAPL\\nwb_incandescent\\nCountry:\\nUnited States\\nSector:\\nTechnology\\nIndustry:\\nConsumer Electronics\\n2.\\nMicrosoft\\nMarket Cap (USD):\\n$2.755 T\\nStock:\\nMSFT\\nwb_incandescent\\nCountry:\\nUnited States\\nSector:\\nTechnology\\nIndustry:\\nSoftware—Infrastructure\\n3.\\nNvidia\\nMarket Cap (USD):\\n$1.186 T\\nStock:\\nNVDA\\nwb_incandescent\\nCountry:\\nUnited States\\nSector:\\nTechnology\\nIndustry:\\nSemiconductors\\n4.\\nBroadcom\\nMarket Cap (USD):\\n$495.95 B\\nStock:\\nAVGO\\nwb_incandescent\\nCountry:\\nUnited States\\nSector:\\nTechnology\\nIndustry:\\nSemiconductors\\n5.\\nOracle\\nMarket Cap (USD):\\n$282.01 B\\nStock:\\nORCL\\nwb_incandescent\\nCountry:\\nUnited States\\nSector:\\nTechnology\\nIndustry:\\nSoftware—Infrastructure\\n6.\\n Marvell Technology, Inc.\\nMarket Cap (USD):\\n$49.61 B\\nStock:\\n9MW\\nwb_incandescent\\nCountry:\\nUnited States\\nSector:\\nTechnology\\nIndustry:\\nSemiconductors\\n35.\\nAutodesk, Inc.\\nMarket Cap (USD):\\n$48.97 B\\nStock:\\nADSK\\nwb_incandescent\\nCountry:\\nUnited States\\nSector:\\nTechnology\\nIndustry:\\nSoftware—Application\\n36.\\nMicrochip Technology Incorporated\\nMarket Cap (USD):\\n$45.77 B\\nStock:\\nMCHP\\nwb_incandescent\\nCountry:\\nUnited States\\nSector:\\nTechnology\\nIndustry:\\nSemiconductors\\n37.\\nFortinet, Inc.\\nMarket Cap (USD):\\n$44.84 B\\nStock:\\n Analog Devices\\nMarket Cap (USD):\\n$93.79 B\\nStock:\\nADI\\nwb_incandescent\\nCountry:\\nUnited States\\nSector:\\nTechnology\\nIndustry:\\nSemiconductors\\n20.\\nMicron Technology, Inc.\\nMarket Cap (USD):\\n$91.30 B\\nStock:\\nMU\\nwb_incandescent\\nCountry:\\nUnited States\\nSector:\\nTechnology\\nIndustry:\\nSemiconductors\\n21.\\nPalo Alto Networks\\nMarket Cap (USD):\\n$90.41 B\\nStock:\\nPANW\\nwb_incandescent\\nCountry:\\nUnited States\\nSector:\\nTechnology\\nIndustry:\\nSoftware—Infrastructure\\n22.\\n Fiserv\\nMarket Cap (USD):\\n$79.73 B\\nStock:\\nFI\\nwb_incandescent\\nCountry:\\nUnited States\\nSector:\\nTechnology\\nIndustry:\\nInformation Technology Services\\n23.\\nKLA\\nMarket Cap (USD):\\n$75.13 B\\nStock:\\nKLAC\\nwb_incandescent\\nCountry:\\nUnited States\\nSector:\\nTechnology\\nIndustry:\\nSemiconductor Equipment & Materials\\n24.\\nSynopsys\\nMarket Cap (USD):\\n$74.64 B\\nStock:\\nSNPS\\nwb_incandescent\\nCountry:\\nUnited States\\nSector:\\nTechnology\\nIndustry:\\nSoftware—Infrastructure\\n25.\\n Salesforce\\nMarket Cap (USD):\\n$243.78 B\\nStock:\\nCRM\\nwb_incandescent\\nCountry:\\nUnited States\\nSector:\\nTechnology\\nIndustry:\\nSoftware—Application\\n8.\\nAMD\\nMarket Cap (USD):\\n$219.72 B\\nStock:\\nAMD\\nwb_incandescent\\nCountry:\\nUnited States\\nSector:\\nTechnology\\nIndustry:\\nSemiconductors\\n9.\\nCisco\\nMarket Cap (USD):\\n$205.21 B\\nStock:\\nCSCO\\nwb_incandescent\\nCountry:\\nUnited States\\nSector:\\nTechnology\\nIndustry:\\nCommunication Equipment\\n10.\\n', 'id': 'doc_4'}], document_ids={'doc_17', 'doc_18', 'doc_4'}),\n",
              "  CohereCitation(start=282, end=286, text='2023', documents=[{'url': 'https://stockanalysis.com/stocks/aapl/employees/', 'content': 'Apple had 161,000 employees on September 30, 2023. The number of employees decreased by 3,000 or -1.83% compared to the previous year. Employees 161,000. Change (1Y) -3,000. Growth (1Y) -1.83%. Revenue / Employee ... Real-time quotes provided by IEX Cloud. Other market data may be delayed by 15 minutes or more.', 'id': 'doc_7'}, {'url': 'https://www.macrotrends.net/stocks/charts/AAPL/apple/number-of-employees', 'content': 'Employee Count. Interactive chart of Apple (AAPL) annual worldwide employee count from 2010 to 2023. Apple total number of employees in 2023 was 161,000, a 1.83% decline from 2022. Apple total number of employees in 2022 was 164,000, a 6.49% increase from 2021. Apple total number of employees in 2021 was 154,000, a 4.76% increase from 2020.', 'id': 'doc_9'}, {'url': 'https://www.macrotrends.net/stocks/charts/MSFT/microsoft/number-of-employees', 'content': 'Interactive chart of Microsoft (MSFT) annual worldwide employee count from 2010 to 2023. Microsoft total number of employees in 2023 was 221,000, a 0% decline from 2022. Microsoft total number of employees in 2022 was 221,000, a 22.1% increase from 2021. Microsoft total number of employees in 2021 was 181,000, a 11.04% increase from 2020.', 'id': 'doc_10'}, {'url': 'https://stockanalysis.com/stocks/msft/employees/', 'content': 'Microsoft had 221,000 employees on June 30, 2023. The number of employees did not change compared to the previous year. Employees 221,000. Change (1Y) n/a. Growth (1Y) n/a. Revenue / Employee $1,070,516. Profits / Employee ... Real-time quotes provided by IEX Cloud. Other market data may be delayed by 15 minutes or more.', 'id': 'doc_13'}, {'url': 'https://stockanalysis.com/stocks/nvda/employees/', 'content': 'NVIDIA had 29,600 employees on January 28, 2024. The number of employees increased by 3,404 or 12.99% compared to the previous year. Employees 29,600. Change (1Y) 3,404. ... Real-time quotes provided by IEX Cloud. Other market data may be delayed by 15 minutes or more. ...', 'id': 'doc_17'}, {'url': 'https://www.macrotrends.net/stocks/charts/NVDA/nvidia/number-of-employees', 'content': 'Employee Count. Interactive chart of NVIDIA (NVDA) annual worldwide employee count from 2010 to 2024. NVIDIA total number of employees in 2024 was 29,600, a 12.99% increase from 2023. NVIDIA total number of employees in 2023 was 26,196, a 16.57% increase from 2022. NVIDIA total number of employees in 2022 was 22,473, a 18.43% increase from 2021.', 'id': 'doc_18'}], document_ids={'doc_10', 'doc_9', 'doc_13', 'doc_18', 'doc_7', 'doc_17'}),\n",
              "  CohereCitation(start=291, end=298, text='161,000', documents=[{'url': 'https://www.macrotrends.net/stocks/charts/AAPL/apple/number-of-employees', 'content': 'Employee Count. Interactive chart of Apple (AAPL) annual worldwide employee count from 2010 to 2023. Apple total number of employees in 2023 was 161,000, a 1.83% decline from 2022. Apple total number of employees in 2022 was 164,000, a 6.49% increase from 2021. Apple total number of employees in 2021 was 154,000, a 4.76% increase from 2020.', 'id': 'doc_9'}, {'url': 'https://stockanalysis.com/stocks/aapl/employees/', 'content': 'Apple had 161,000 employees on September 30, 2023. The number of employees decreased by 3,000 or -1.83% compared to the previous year. Employees 161,000. Change (1Y) -3,000. Growth (1Y) -1.83%. Revenue / Employee ... Real-time quotes provided by IEX Cloud. Other market data may be delayed by 15 minutes or more.', 'id': 'doc_7'}], document_ids={'doc_9', 'doc_7'}),\n",
              "  CohereCitation(start=300, end=307, text='221,000', documents=[{'url': 'https://www.macrotrends.net/stocks/charts/MSFT/microsoft/number-of-employees', 'content': 'Interactive chart of Microsoft (MSFT) annual worldwide employee count from 2010 to 2023. Microsoft total number of employees in 2023 was 221,000, a 0% decline from 2022. Microsoft total number of employees in 2022 was 221,000, a 22.1% increase from 2021. Microsoft total number of employees in 2021 was 181,000, a 11.04% increase from 2020.', 'id': 'doc_10'}, {'url': 'https://finance.yahoo.com/quote/MSFT/profile/', 'content': 'Additionally, this segment provides gaming, which includes Xbox hardware and content, and first- and third-party content; Xbox game pass and other subscriptions, cloud gaming, advertising, third-party disc royalties, and other cloud services; and search and news advertising, which includes Bing, Microsoft News and Edge, and third-party affiliates. The Intelligent Cloud segment offers server products and cloud services, such as azure and other cloud services; SQL and windows server, visual studio, system center, and related client access licenses, as well as nuance and GitHub; and enterprise services including enterprise support services, industry solutions, and nuance professional services. The More Personal Computing segment offers Windows, including windows OEM licensing and other non-volume licensing of the Windows operating system; Windows commercial comprising volume licensing of the Windows operating system, windows cloud services, and other Windows commercial offerings; patent licensing; and windows Internet of Things; and devices, such as surface, HoloLens, and PC accessories. The Productivity and Business Processes segment offers office, exchange, SharePoint, Microsoft Teams, office 365 Security and Compliance, Microsoft viva, and Microsoft 365 copilot; and office consumer services, such as Microsoft 365 consumer subscriptions, Office licensed on-premises, and other office services. Microsoft Corporation (MSFT)\\nMicrosoft Corporation\\nOne Microsoft WayRedmond, WA 98052-6399United States425 882 8080https://www.microsoft.com\\nSector(s):\\xa0TechnologyIndustry:\\xa0Software - InfrastructureFull Time Employees:\\xa0221,000\\nKey Executives\\nDescription\\nMicrosoft Corporation develops and supports software, services, devices and solutions worldwide.', 'id': 'doc_11'}, {'url': 'https://stockanalysis.com/stocks/msft/employees/', 'content': 'Microsoft had 221,000 employees on June 30, 2023. The number of employees did not change compared to the previous year. Employees 221,000. Change (1Y) n/a. Growth (1Y) n/a. Revenue / Employee $1,070,516. Profits / Employee ... Real-time quotes provided by IEX Cloud. Other market data may be delayed by 15 minutes or more.', 'id': 'doc_13'}, {'url': 'https://www.microsoft.com/investor/reports/ar23/index.html', 'content': 'As of June 30, 2023, we employed approximately 221,000 people on a full-time basis, 120,000 in the U.S. and 101,000 internationally. Of the total employed people, 89,000 were in operations, including manufacturing, distribution, product support, and consulting services; 72,000 were in product research and development; 45,000 were in sales and ...', 'id': 'doc_14'}], document_ids={'doc_10', 'doc_13', 'doc_11', 'doc_14'}),\n",
              "  CohereCitation(start=313, end=319, text='29,600', documents=[{'url': 'https://stockanalysis.com/stocks/nvda/employees/', 'content': 'NVIDIA had 29,600 employees on January 28, 2024. The number of employees increased by 3,404 or 12.99% compared to the previous year. Employees 29,600. Change (1Y) 3,404. ... Real-time quotes provided by IEX Cloud. Other market data may be delayed by 15 minutes or more. ...', 'id': 'doc_17'}, {'url': 'https://www.macrotrends.net/stocks/charts/NVDA/nvidia/number-of-employees', 'content': 'Employee Count. Interactive chart of NVIDIA (NVDA) annual worldwide employee count from 2010 to 2024. NVIDIA total number of employees in 2024 was 29,600, a 12.99% increase from 2023. NVIDIA total number of employees in 2023 was 26,196, a 16.57% increase from 2022. NVIDIA total number of employees in 2022 was 22,473, a 18.43% increase from 2021.', 'id': 'doc_18'}], document_ids={'doc_17', 'doc_18'})]}"
            ]
          },
          "execution_count": 9,
          "metadata": {},
          "output_type": "execute_result"
        },
        {
          "data": {
            "image/png": "[encoded data removed]",
            "text/plain": [
              "<Figure size 640x480 with 1 Axes>"
            ]
          },
          "metadata": {},
          "output_type": "display_data"
        }
      ],
      "source": [
        "agent_executor.invoke({\n",
        "    \"input\": \"Create a plot of the number of full time employees at the 3 tech companies with the highest market cap in the United States in 2024.\",\n",
        "})"
      ]
    },
    {
      "cell_type": "code",
      "execution_count": null,
      "metadata": {
        "id": "FmEhDo-GGA_d"
      },
      "outputs": [],
      "source": [
        "# notice that the model did websearch calls, then used python to do some analysis\n",
        "# the model can even self-debug itself if the python code was wrong"
      ]
    },
    {
      "cell_type": "markdown",
      "metadata": {
        "id": "MgSuSpuBzof-"
      },
      "source": [
        "# Let's ask another question to the data analyst -- which requires a direct answer"
      ]
    },
    {
      "cell_type": "code",
      "execution_count": null,
      "metadata": {
        "colab": {
          "base_uri": "https://localhost:8080/"
        },
        "id": "AW_8C7mszsVE",
        "outputId": "5a0d58d1-b589-403c-c071-0a76069ea113"
      },
      "outputs": [
        {
          "name": "stdout",
          "output_type": "stream",
          "text": [
            "\n",
            "\n",
            "\u001b[1m> Entering new AgentExecutor chain...\u001b[0m\n",
            "\u001b[32;1m\u001b[1;3mPlan: I will respond to the user's greeting.\n",
            "Action: ```json\n",
            "[\n",
            "    {\n",
            "        \"tool_name\": \"directly_answer\",\n",
            "        \"parameters\": {}\n",
            "    }\n",
            "]\n",
            "```\n",
            "Relevant Documents: None\n",
            "Cited Documents: None\n",
            "Answer: Hey, I'm doing well, thank you for asking! How can I help you today?\n",
            "Grounded answer: Hey, I'm doing well, thank you for asking! How can I help you today?\u001b[0m\n",
            "\n",
            "\u001b[1m> Finished chain.\u001b[0m\n"
          ]
        },
        {
          "data": {
            "text/plain": [
              "{'input': 'Hey how are you?',\n",
              " 'output': \"Hey, I'm doing well, thank you for asking! How can I help you today?\",\n",
              " 'citations': []}"
            ]
          },
          "execution_count": 16,
          "metadata": {},
          "output_type": "execute_result"
        }
      ],
      "source": [
        "agent_executor.invoke({\n",
        "    \"input\": \"Hey how are you?\",\n",
        "})"
      ]
    },
    {
      "cell_type": "code",
      "execution_count": 7,
      "metadata": {},
      "outputs": [],
      "source": [
        "import getpass\n",
        "import os\n",
        "\n",
        "os.environ[\"POLYGON_API_KEY\"] = getpass.getpass()"
      ]
    },
    {
      "cell_type": "code",
      "execution_count": 8,
      "metadata": {},
      "outputs": [],
      "source": [
        "from langchain_community.tools.polygon.aggregates import PolygonAggregates\n",
        "from langchain_community.tools.polygon.financials import PolygonFinancials\n",
        "from langchain_community.tools.polygon.last_quote import PolygonLastQuote\n",
        "from langchain_community.tools.polygon.ticker_news import PolygonTickerNews\n",
        "from langchain_community.utilities.polygon import PolygonAPIWrapper"
      ]
    },
    {
      "cell_type": "code",
      "execution_count": 9,
      "metadata": {},
      "outputs": [],
      "source": [
        "api_wrapper = PolygonAPIWrapper()\n",
        "ticker = \"AAPL\""
      ]
    },
    {
      "cell_type": "code",
      "execution_count": 12,
      "metadata": {},
      "outputs": [],
      "source": [
        "from langchain_community.tools.polygon.aggregates import PolygonAggregatesSchema\n",
        "import json\n",
        "# Define param\n",
        "params = PolygonAggregatesSchema(\n",
        "    ticker=ticker,\n",
        "    timespan=\"day\",\n",
        "    timespan_multiplier=1,\n",
        "    from_date=\"2024-03-01\",\n",
        "    to_date=\"2024-03-08\",\n",
        ")\n",
        "# Get aggregates for ticker\n",
        "aggregates_tool = PolygonAggregates(api_wrapper=api_wrapper)\n",
        "aggregates = aggregates_tool.run(tool_input=params.dict())\n",
        "aggregates_json = json.loads(aggregates)"
      ]
    },
    {
      "cell_type": "code",
      "execution_count": 13,
      "metadata": {},
      "outputs": [
        {
          "name": "stdout",
          "output_type": "stream",
          "text": [
            "Total aggregates: 6\n",
            "Aggregates: [{'v': 73450582.0, 'vw': 179.0322, 'o': 179.55, 'c': 179.66, 'h': 180.53, 'l': 177.38, 't': 1709269200000, 'n': 911077}, {'v': 81505451.0, 'vw': 174.8938, 'o': 176.15, 'c': 175.1, 'h': 176.9, 'l': 173.79, 't': 1709528400000, 'n': 1167166}, {'v': 94702355.0, 'vw': 170.3234, 'o': 170.76, 'c': 170.12, 'h': 172.04, 'l': 169.62, 't': 1709614800000, 'n': 1108820}, {'v': 68568907.0, 'vw': 169.5506, 'o': 171.06, 'c': 169.12, 'h': 171.24, 'l': 168.68, 't': 1709701200000, 'n': 896297}, {'v': 71763761.0, 'vw': 169.3619, 'o': 169.15, 'c': 169, 'h': 170.73, 'l': 168.49, 't': 1709787600000, 'n': 825405}, {'v': 76267041.0, 'vw': 171.5322, 'o': 169, 'c': 170.73, 'h': 173.7, 'l': 168.94, 't': 1709874000000, 'n': 925213}]\n"
          ]
        }
      ],
      "source": [
        "print(f\"Total aggregates: {len(aggregates_json)}\")\n",
        "print(f\"Aggregates: {aggregates_json}\")"
      ]
    },
    {
      "cell_type": "code",
      "execution_count": 14,
      "metadata": {},
      "outputs": [],
      "source": [
        "ticker_news_tool = PolygonTickerNews(api_wrapper=api_wrapper)\n",
        "ticker_news = ticker_news_tool.run(ticker)"
      ]
    },
    {
      "cell_type": "code",
      "execution_count": 15,
      "metadata": {},
      "outputs": [
        {
          "name": "stdout",
          "output_type": "stream",
          "text": [
            "Total news items: 10\n"
          ]
        }
      ],
      "source": [
        "# Convert the news response to JSON array\n",
        "ticker_news_json = json.loads(ticker_news)\n",
        "print(f\"Total news items: {len(ticker_news_json)}\")"
      ]
    },
    {
      "cell_type": "code",
      "execution_count": 16,
      "metadata": {},
      "outputs": [
        {
          "name": "stdout",
          "output_type": "stream",
          "text": [
            "Title: 3 Key Takeaways From Buffett's Sale of Apple Stock\n",
            "Description: Berkshire is unlikely to sell all of its Apple stock, but the sale could make investors rethink Buffett's perception of Apple and possibly the market as a whole.\n",
            "Publisher: The Motley Fool\n",
            "URL: https://www.fool.com/investing/2024/05/12/3-key-takeaways-from-buffetts-sale-of-apple-stock/\n"
          ]
        }
      ],
      "source": [
        "# Inspect the first news item\n",
        "news_item = ticker_news_json[0]\n",
        "print(f\"Title: {news_item['title']}\")\n",
        "print(f\"Description: {news_item['description']}\")\n",
        "print(f\"Publisher: {news_item['publisher']['name']}\")\n",
        "print(f\"URL: {news_item['article_url']}\")"
      ]
    },
    {
      "cell_type": "code",
      "execution_count": 17,
      "metadata": {},
      "outputs": [],
      "source": [
        "financials_tool = PolygonFinancials(api_wrapper=api_wrapper)\n",
        "financials = financials_tool.run(ticker)"
      ]
    },
    {
      "cell_type": "code",
      "execution_count": 18,
      "metadata": {},
      "outputs": [
        {
          "name": "stdout",
          "output_type": "stream",
          "text": [
            "Total reporting periods: 10\n"
          ]
        }
      ],
      "source": [
        "# Convert the financials response to JSON\n",
        "financials_json = json.loads(financials)\n",
        "print(f\"Total reporting periods: {len(financials_json)}\")"
      ]
    },
    {
      "cell_type": "code",
      "execution_count": 19,
      "metadata": {},
      "outputs": [
        {
          "name": "stdout",
          "output_type": "stream",
          "text": [
            "Company name: APPLE INC\n",
            "CIK: 0000320193\n",
            "Fiscal period: TTM\n",
            "End date: 2023-12-30\n",
            "Start date: 2022-12-31\n"
          ]
        }
      ],
      "source": [
        "# Print the latest reporting period's financials metadata\n",
        "financial_data = financials_json[0]\n",
        "print(f\"Company name: {financial_data['company_name']}\")\n",
        "print(f\"CIK: {financial_data['cik']}\")\n",
        "print(f\"Fiscal period: {financial_data['fiscal_period']}\")\n",
        "print(f\"End date: {financial_data['end_date']}\")\n",
        "print(f\"Start date: {financial_data['start_date']}\")"
      ]
    },
    {
      "cell_type": "code",
      "execution_count": 20,
      "metadata": {},
      "outputs": [
        {
          "name": "stdout",
          "output_type": "stream",
          "text": [
            "Income statement: {'net_income_loss': {'value': 100913000000.0, 'unit': 'USD', 'label': 'Net Income/Loss', 'order': 3200}, 'operating_income_loss': {'value': 118658000000.0, 'unit': 'USD', 'label': 'Operating Income/Loss', 'order': 1100}, 'diluted_average_shares': {'value': 47151996000.0, 'unit': 'shares', 'label': 'Diluted Average Shares', 'order': 4500}, 'preferred_stock_dividends_and_other_adjustments': {'value': 0, 'unit': 'USD', 'label': 'Preferred Stock Dividends And Other Adjustments', 'order': 3900}, 'net_income_loss_attributable_to_parent': {'value': 100913000000.0, 'unit': 'USD', 'label': 'Net Income/Loss Attributable To Parent', 'order': 3500}, 'cost_of_revenue': {'value': 212035000000.0, 'unit': 'USD', 'label': 'Cost Of Revenue', 'order': 300}, 'research_and_development': {'value': 29902000000.0, 'unit': 'USD', 'label': 'Research and Development', 'order': 1030}, 'participating_securities_distributed_and_undistributed_earnings_loss_basic': {'value': 0, 'unit': 'USD', 'label': 'Participating Securities, Distributed And Undistributed Earnings/Loss, Basic', 'order': 3800}, 'income_tax_expense_benefit': {'value': 17523000000.0, 'unit': 'USD', 'label': 'Income Tax Expense/Benefit', 'order': 2200}, 'revenues': {'value': 385706000000.0, 'unit': 'USD', 'label': 'Revenues', 'order': 100}, 'net_income_loss_available_to_common_stockholders_basic': {'value': 100913000000.0, 'unit': 'USD', 'label': 'Net Income/Loss Available To Common Stockholders, Basic', 'order': 3700}, 'diluted_earnings_per_share': {'value': 6.42, 'unit': 'USD / shares', 'label': 'Diluted Earnings Per Share', 'order': 4300}, 'benefits_costs_expenses': {'value': 267270000000.0, 'unit': 'USD', 'label': 'Benefits Costs and Expenses', 'order': 200}, 'income_loss_from_continuing_operations_after_tax': {'value': 100913000000.0, 'unit': 'USD', 'label': 'Income/Loss From Continuing Operations After Tax', 'order': 1400}, 'net_income_loss_attributable_to_noncontrolling_interest': {'value': 0, 'unit': 'USD', 'label': 'Net Income/Loss Attributable To Noncontrolling Interest', 'order': 3300}, 'costs_and_expenses': {'value': 267270000000.0, 'unit': 'USD', 'label': 'Costs And Expenses', 'order': 600}, 'basic_earnings_per_share': {'value': 6.46, 'unit': 'USD / shares', 'label': 'Basic Earnings Per Share', 'order': 4200}, 'operating_expenses': {'value': 55013000000.0, 'unit': 'USD', 'label': 'Operating Expenses', 'order': 1000}, 'gross_profit': {'value': 173671000000.0, 'unit': 'USD', 'label': 'Gross Profit', 'order': 800}, 'income_loss_from_continuing_operations_before_tax': {'value': 118436000000.0, 'unit': 'USD', 'label': 'Income/Loss From Continuing Operations Before Tax', 'order': 1500}, 'selling_general_and_administrative_expenses': {'value': 25111000000.0, 'unit': 'USD', 'label': 'Selling, General, and Administrative Expenses', 'order': 1010}, 'basic_average_shares': {'value': 46946265000.0, 'unit': 'shares', 'label': 'Basic Average Shares', 'order': 4400}, 'nonoperating_income_loss': {'value': -222000000.0, 'unit': 'USD', 'label': 'Nonoperating Income/Loss', 'order': 900}}\n"
          ]
        }
      ],
      "source": [
        "# Print the latest reporting period's income statement\n",
        "print(f\"Income statement: {financial_data['financials']['income_statement']}\")"
      ]
    },
    {
      "cell_type": "code",
      "execution_count": 21,
      "metadata": {},
      "outputs": [
        {
          "name": "stdout",
          "output_type": "stream",
          "text": [
            "Balance sheet: {'inventory': {'value': 6511000000.0, 'unit': 'USD', 'label': 'Inventory', 'order': 230}, 'long_term_debt': {'value': 106000000000.0, 'unit': 'USD', 'label': 'Long-term Debt', 'order': 810}, 'equity': {'value': 74100000000.0, 'unit': 'USD', 'label': 'Equity', 'order': 1400}, 'assets': {'value': 353514000000.0, 'unit': 'USD', 'label': 'Assets', 'order': 100}, 'liabilities': {'value': 279414000000.0, 'unit': 'USD', 'label': 'Liabilities', 'order': 600}, 'other_current_liabilities': {'value': 75827000000.0, 'unit': 'USD', 'label': 'Other Current Liabilities', 'order': 740}, 'equity_attributable_to_noncontrolling_interest': {'value': 0, 'unit': 'USD', 'label': 'Equity Attributable To Noncontrolling Interest', 'order': 1500}, 'other_noncurrent_liabilities': {'value': 39441000000.0, 'unit': 'USD', 'label': 'Other Non-current Liabilities', 'order': 820}, 'other_current_assets': {'value': 137181000000.0, 'unit': 'USD', 'label': 'Other Current Assets', 'order': 250}, 'equity_attributable_to_parent': {'value': 74100000000.0, 'unit': 'USD', 'label': 'Equity Attributable To Parent', 'order': 1600}, 'accounts_payable': {'value': 58146000000.0, 'unit': 'USD', 'label': 'Accounts Payable', 'order': 710}, 'noncurrent_assets': {'value': 209822000000.0, 'unit': 'USD', 'label': 'Noncurrent Assets', 'order': 300}, 'current_liabilities': {'value': 133973000000.0, 'unit': 'USD', 'label': 'Current Liabilities', 'order': 700}, 'fixed_assets': {'value': 43666000000.0, 'unit': 'USD', 'label': 'Fixed Assets', 'order': 320}, 'liabilities_and_equity': {'value': 353514000000.0, 'unit': 'USD', 'label': 'Liabilities And Equity', 'order': 1900}, 'noncurrent_liabilities': {'value': 145441000000.0, 'unit': 'USD', 'label': 'Noncurrent Liabilities', 'order': 800}, 'other_noncurrent_assets': {'value': 166156000000.0, 'unit': 'USD', 'label': 'Other Non-current Assets', 'order': 350}, 'current_assets': {'value': 143692000000.0, 'unit': 'USD', 'label': 'Current Assets', 'order': 200}}\n"
          ]
        }
      ],
      "source": [
        "# Print the latest reporting period's balance sheet\n",
        "print(f\"Balance sheet: {financial_data['financials']['balance_sheet']}\")"
      ]
    },
    {
      "cell_type": "code",
      "execution_count": 22,
      "metadata": {},
      "outputs": [
        {
          "name": "stdout",
          "output_type": "stream",
          "text": [
            "Cash flow statement: {'net_cash_flow_from_operating_activities_continuing': {'value': 116433000000.0, 'unit': 'USD', 'label': 'Net Cash Flow From Operating Activities, Continuing', 'order': 200}, 'net_cash_flow_from_operating_activities': {'value': 116433000000.0, 'unit': 'USD', 'label': 'Net Cash Flow From Operating Activities', 'order': 100}, 'net_cash_flow_from_investing_activities_continuing': {'value': 7077000000.0, 'unit': 'USD', 'label': 'Net Cash Flow From Investing Activities, Continuing', 'order': 500}, 'net_cash_flow_continuing': {'value': 20000000000.0, 'unit': 'USD', 'label': 'Net Cash Flow, Continuing', 'order': 1200}, 'net_cash_flow_from_investing_activities': {'value': 7077000000.0, 'unit': 'USD', 'label': 'Net Cash Flow From Investing Activities', 'order': 400}, 'net_cash_flow_from_financing_activities_continuing': {'value': -103510000000.0, 'unit': 'USD', 'label': 'Net Cash Flow From Financing Activities, Continuing', 'order': 800}, 'net_cash_flow': {'value': 20000000000.0, 'unit': 'USD', 'label': 'Net Cash Flow', 'order': 1100}, 'net_cash_flow_from_financing_activities': {'value': -103510000000.0, 'unit': 'USD', 'label': 'Net Cash Flow From Financing Activities', 'order': 700}}\n"
          ]
        }
      ],
      "source": [
        "# Print the latest reporting period's cash flow statement\n",
        "print(f\"Cash flow statement: {financial_data['financials']['cash_flow_statement']}\")"
      ]
    },
    {
      "cell_type": "code",
      "execution_count": null,
      "metadata": {},
      "outputs": [],
      "source": []
    }
  ],
  "metadata": {
    "colab": {
      "provenance": []
    },
    "kernelspec": {
      "display_name": "Python 3 (ipykernel)",
      "language": "python",
      "name": "python3"
    },
    "language_info": {
      "codemirror_mode": {
        "name": "ipython",
        "version": 3
      },
      "file_extension": ".py",
      "mimetype": "text/x-python",
      "name": "python",
      "nbconvert_exporter": "python",
      "pygments_lexer": "ipython3",
      "version": "3.8.18"
    }
  },
  "nbformat": 4,
  "nbformat_minor": 0
}
