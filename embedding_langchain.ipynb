{
 "cells": [
  {
   "cell_type": "code",
   "execution_count": 4,
   "metadata": {},
   "outputs": [],
   "source": [
    "ASTRA_DB_CLIENT_SECRET = \"\"\n",
    "ASTRA_DB_APPLICATION_TOKEN = \"\"\n",
    "ASTRA_DB_CLIENT_ID = \"\"\n",
    "ASTRA_DB_SECURE_BUNDLE_PATH = \"\"\n",
    "ASTRA_DB_KEYSPACE = \"\"\n",
    "OPENAI_API_KEY = \"\""
   ]
  },
  {
   "cell_type": "code",
   "execution_count": 5,
   "metadata": {},
   "outputs": [],
   "source": [
    "from langchain.vectorstores.cassandra import Cassandra\n",
    "from langchain.indexes.vectorstore import VectorStoreIndexWrapper\n",
    "from langchain.llms import OpenAI\n",
    "from langchain.embeddings import OpenAIEmbeddings"
   ]
  },
  {
   "cell_type": "code",
   "execution_count": null,
   "metadata": {},
   "outputs": [],
   "source": []
  },
  {
   "cell_type": "code",
   "execution_count": 6,
   "metadata": {},
   "outputs": [],
   "source": [
    "from cassandra.cluster import Cluster\n",
    "from cassandra.auth import PlainTextAuthProvider "
   ]
  },
  {
   "cell_type": "code",
   "execution_count": 7,
   "metadata": {},
   "outputs": [],
   "source": [
    "from datasets import load_dataset"
   ]
  },
  {
   "cell_type": "code",
   "execution_count": 8,
   "metadata": {},
   "outputs": [],
   "source": [
    "cloud_config = {\n",
    "    'secure_connect_bundle' : ASTRA_DB_SECURE_BUNDLE_PATH\n",
    "}\n",
    "auth_provider = PlainTextAuthProvider(ASTRA_DB_CLIENT_ID, ASTRA_DB_CLIENT_SECRET)\n",
    "cluster = Cluster(cloud=cloud_config, auth_provider=auth_provider)\n"
   ]
  },
  {
   "cell_type": "code",
   "execution_count": 9,
   "metadata": {},
   "outputs": [
    {
     "name": "stdout",
     "output_type": "stream",
     "text": [
      "Loading data from HF\n"
     ]
    },
    {
     "name": "stderr",
     "output_type": "stream",
     "text": [
      "Downloading readme: 100%|██████████| 463/463 [00:00<00:00, 233kB/s]\n",
      "Downloading data: 100%|██████████| 23.5M/23.5M [00:06<00:00, 3.44MB/s]\n",
      "Downloading data files: 100%|██████████| 1/1 [00:06<00:00,  6.85s/it]\n",
      "Extracting data files: 100%|██████████| 1/1 [00:00<00:00, 40.33it/s]\n",
      "Generating train split: 33880 examples [00:00, 39395.76 examples/s]\n"
     ]
    },
    {
     "name": "stdout",
     "output_type": "stream",
     "text": [
      "Generating embeddings and storing in astra\n"
     ]
    },
    {
     "data": {
      "text/plain": [
       "['14775e0cdf5d4e8eb1cc6f332bc48988',\n",
       " '4dba1cd7f47d4447b195cb73c7c47e7e',\n",
       " '7cb88c3648a54ea1973884f600a34761',\n",
       " '62e0ac5835214a33a451c15c93766c64',\n",
       " '628afd13fcd549ff8346c6edbf79dbfe',\n",
       " '8cf8889b7a1a453c91a425587f142d29',\n",
       " '1adbf28f509d4df1a033e62d6fce1eff',\n",
       " 'af1e179f7c4c44b2b0dbab56f8dc0222',\n",
       " 'e9651f82da374122a01c866784a565a2',\n",
       " '595307b8f07f4676b511a589f7104a70',\n",
       " '613e7c43929b48b5bdcee31b81326217',\n",
       " 'a04c5a37613b449ca5842ca9fa4cc4a3',\n",
       " 'abc9229025a341a3bad68e647147b65f',\n",
       " '9490e1b0ecc9468dad5eea158f94a609',\n",
       " 'a2cad2379a864d0b8ed97280d07e9c5a',\n",
       " 'f1fefc64eefe455a80bf38eff5f6d811',\n",
       " '06570eef5d5041cfb1612be9912a867d',\n",
       " '7e58c9171b784257a6f3a8ca35f068ed',\n",
       " '8e1200199b52458d9a8d62b11cf8449e',\n",
       " 'bfbd9484a96645dd9787050be2374cef',\n",
       " '82a9504ab29b474bbbf7bb2560bf41c7',\n",
       " 'c41369a7c915463990856835d7ec7f81',\n",
       " '91f78bfe3c844c1ab41c13057aa2bc5b',\n",
       " '7ea2d8be307d4f95af8056439b2b726f',\n",
       " '164e69c8134a4c80834e95513dfeedd4',\n",
       " '2be0f8cd0d784c6f8752de7d2b146073',\n",
       " '7749b2474cf14961b13c8fc821106489',\n",
       " 'a1ca94f68c12420c9f754635cbd1bb63',\n",
       " '62133c4b450943dd8e491cb771e9fb61',\n",
       " 'd0cabea873c84515b5324e9e17a23c2c',\n",
       " '9945d371ec8d4632bf6b4cccd54075cf',\n",
       " 'a8c62e73cbfd4d8d9450b19c8924039c',\n",
       " '6b2dee889a714903b59d46c9992167d8',\n",
       " 'b49ba7bed0ea4ee09a2e12ad8841fa2e',\n",
       " '3859d9dcfbd342f889a6aec3a79275ec',\n",
       " '2e88420795184f1b9ebf0313e9fc8f7d',\n",
       " '0024eacaf83d4b79af33e8e6e936e349',\n",
       " '32a2adbcd3a7489fb4d0d9e555476bd8',\n",
       " '53f73647cc4846b2884fe0f423c788ca',\n",
       " '87d22e3a732544b0b871cf99d81173d4',\n",
       " '41d7f01a322241b1a31a69bc1cb4433f',\n",
       " '14f2385bdb2b4a9dba06e863975c6fc3',\n",
       " '284d508979034ed0b82a5be37c84faf1',\n",
       " '9732050ea4a64e75acfab8a067b5730b',\n",
       " '1a4a5c7d546f410d8680289f44950bc6',\n",
       " 'dd1247dc9e6d4306997c02bf53fbd478',\n",
       " '24f67f7bc768423dbdbcda0f1de49d3d',\n",
       " '0d9bc260833e4c128d16a80bdf7c4acb',\n",
       " 'a97d95f4a9154110bb4da9db2d147006',\n",
       " '5a3916be72934914b4e047b9272c46ef']"
      ]
     },
     "execution_count": 9,
     "metadata": {},
     "output_type": "execute_result"
    }
   ],
   "source": [
    "astraSession = cluster.connect()\n",
    "\n",
    "llm = OpenAI(openai_api_key=OPENAI_API_KEY)\n",
    "myEmbedding = OpenAIEmbeddings(openai_api_key=OPENAI_API_KEY)\n",
    "\n",
    "myCassandraVStore = Cassandra(\n",
    "    embedding = myEmbedding,\n",
    "    session = astraSession,\n",
    "    keyspace = ASTRA_DB_KEYSPACE,\n",
    "    table_name = \"qa_mini_demo\"\n",
    ")\n",
    "\n",
    "print(\"Loading data from HF\")\n",
    "myDataset = load_dataset(\"Biddls/Onion_News\", split=\"train\")\n",
    "headlines = myDataset['text'][:50]\n",
    "\n",
    "print(\"Generating embeddings and storing in astra\")\n",
    "myCassandraVStore.add_texts(headlines)"
   ]
  },
  {
   "cell_type": "code",
   "execution_count": 10,
   "metadata": {},
   "outputs": [
    {
     "name": "stdout",
     "output_type": "stream",
     "text": [
      "Question: \"how to find happenis \"\n",
      "Answer: \"I'm sorry, I don't know what 'happenis' is.\"\n",
      "Documents by Relevance:\n",
      " 0.8725 \"‘No Way To Prevent This,’ Says Only Nation Where This Regula ...\"\n",
      " 0.8673 \"Man Buys Slice Of Honey-Roasted Ham For Attractive Woman At  ...\"\n",
      " 0.8648 \"Report: Minority Of Murders Committed By Someone Victim Didn ...\"\n",
      " 0.8648 \"Report: Everyone Laughing At What Is A Very Silly Misunderst ...\"\n",
      "Question: \"howto find happeniss\"\n",
      "Answer: \"I'm sorry, I don't know.\"\n",
      "Documents by Relevance:\n",
      " 0.8670 \"‘No Way To Prevent This,’ Says Only Nation Where This Regula ...\"\n",
      " 0.8511 \"Report: Everyone Laughing At What Is A Very Silly Misunderst ...\"\n",
      " 0.8501 \"Report: Minority Of Murders Committed By Someone Victim Didn ...\"\n",
      " 0.8498 \"Things To Never Google After You Commit A Crime #~# If you’r ...\"\n",
      "Question: \"how to find happiness\"\n",
      "Answer: \"It is different for everyone. Happiness is found in different ways for different people.\"\n",
      "Documents by Relevance:\n",
      " 0.8849 \"Relaxed Marie Kondo Now Says She Perfectly Happy Living In W ...\"\n",
      " 0.8745 \"Report: Everyone Laughing At What Is A Very Silly Misunderst ...\"\n",
      " 0.8674 \"Man Doing ‘Dry January’ Feels Like He’s Been Abusing Family  ...\"\n",
      " 0.8672 \"Look What Happens When You Leave A McDonald’s Hamburger Out  ...\"\n"
     ]
    }
   ],
   "source": [
    "vectorIndex = VectorStoreIndexWrapper(vectorstore= myCassandraVStore)\n",
    "\n",
    "first_question = True\n",
    "while True:\n",
    "    if first_question:\n",
    "        query_text = input(\"\\nEnter your question (or type 'quit' to exit):\")\n",
    "        first_question = False\n",
    "    else:\n",
    "        query_text = input(\"\\nWhat's your next question (or type 'quit' to exit):\")\n",
    "    \n",
    "    if query_text.lower() == 'quit':\n",
    "        break\n",
    "    print(\"Question: \\\"%s\\\"\" % query_text)\n",
    "    answer = vectorIndex.query(query_text, llm=llm).strip()\n",
    "    print(\"Answer: \\\"%s\\\"\" % answer)\n",
    "\n",
    "    print(\"Documents by Relevance:\")\n",
    "    for doc, score in myCassandraVStore.similarity_search_with_score(query_text, k = 4):\n",
    "        print(\" %0.4f \\\"%s ...\\\"\" % (score, doc.page_content[:60]))"
   ]
  },
  {
   "cell_type": "code",
   "execution_count": null,
   "metadata": {},
   "outputs": [],
   "source": []
  }
 ],
 "metadata": {
  "kernelspec": {
   "display_name": "pytorch",
   "language": "python",
   "name": "python3"
  },
  "language_info": {
   "codemirror_mode": {
    "name": "ipython",
    "version": 3
   },
   "file_extension": ".py",
   "mimetype": "text/x-python",
   "name": "python",
   "nbconvert_exporter": "python",
   "pygments_lexer": "ipython3",
   "version": "3.8.18"
  },
  "orig_nbformat": 4
 },
 "nbformat": 4,
 "nbformat_minor": 2
}
