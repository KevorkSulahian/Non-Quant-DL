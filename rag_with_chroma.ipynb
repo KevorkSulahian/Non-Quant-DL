{
 "cells": [
  {
   "cell_type": "code",
   "execution_count": 1,
   "metadata": {},
   "outputs": [],
   "source": [
    "def word_wrap(string, n_chars=72):\n",
    "    # Wrap a string at the next space after n_chars\n",
    "    if len(string) < n_chars:\n",
    "        return string\n",
    "    else:\n",
    "        return string[:n_chars].rsplit(' ', 1)[0] + '\\n' + word_wrap(string[len(string[:n_chars].rsplit(' ', 1)[0])+1:], n_chars)"
   ]
  },
  {
   "cell_type": "code",
   "execution_count": 2,
   "metadata": {},
   "outputs": [
    {
     "name": "stdout",
     "output_type": "stream",
     "text": [
      "1 Dear shareholders, colleagues, customers, and partners:  \n",
      "We are\n",
      "living through a period of historic economic, societal, and\n",
      "geopolitical change. The world in 2022 looks nothing like \n",
      "the world in\n",
      "2019. As I write this, inflation is at a 40 -year high, supply chains\n",
      "are stretched, and the war in Ukraine is \n",
      "ongoing. At the same time, we\n",
      "are entering a technological era with the potential to power awesome\n",
      "advancements \n",
      "across every sector of our economy and society. As the\n",
      "world’s largest software company, this places us at a historic\n",
      "\n",
      "intersection of opportunity and responsibility to the world around us.\n",
      " \n",
      "Our mission to empower every person and every organization on the\n",
      "planet to achieve more has never been more \n",
      "urgent or more necessary.\n",
      "For all the uncertainty in the world, one thing is clear: People and\n",
      "organizations in every \n",
      "industry are increasingly looking to digital\n",
      "technology to overcome today’s challenges and emerge stronger. And no\n",
      "\n",
      "company is better positioned to help them than Microsoft.  \n",
      "Every day\n",
      "this past fiscal year I have had the privilege to witness our customers\n",
      "use our platforms and tools to connect \n",
      "what technology can do with\n",
      "what the world needs  it to do.  \n",
      "Here are just a few examples:  \n",
      "•\n",
      "Ferrovial, which builds and manages some of the world’s busiest\n",
      "airports and highways, is using our cloud \n",
      "infrastructure to build\n",
      "safer roads as it prepares for a future of autonomous transportation. \n",
      "\n",
      "• Peace Parks Foundation, a nonprofit helping protect natural\n",
      "ecosystems in Southern Africa, is using Microsoft \n",
      "Dynamics 365 and\n",
      "Power BI to secure essential funding, as well as our Azure AI and IoT\n",
      "solutions to help \n",
      "rangers scale their park maintenance and wildlife\n",
      "crime prevention work.  \n",
      "• One of the world’s largest robotics\n",
      "companies, Kawasaki Heavy Industries, is using the breadth of our tools\n",
      "—\n",
      "from Azure IoT and HoloLens —to create an industrial metaverse\n",
      "solution that brings its distributed workforce \n",
      "together with its\n",
      "network of connected equipment to improve productivity and keep\n",
      "employees safe.  \n",
      "• Globo, the biggest media and TV company in Brazil,\n",
      "is using Power Platform to empower its employees to \n",
      "build their own\n",
      "solutions for everything from booking sets to setting schedules.  \n",
      "•\n",
      "And Ørsted, which produces a quarter of the world’s wind energy, is\n",
      "using the Microsoft Intelligent Data \n",
      "Platform to turn data from its\n",
      "offshore turbines into insights for predictive maintenance.  \n",
      "Amid this\n",
      "dynamic environment, we delivered record results in fiscal year 2022:\n",
      "We reported $198  billion in revenue and \n",
      "$83 billion in operating\n",
      "income. And the Microsoft Cloud surpassed $100  billion in annualized\n",
      "revenue for the first time.  \n",
      "OUR RESPONSIBILITY  \n",
      "As a corporation,\n",
      "our purpose and actions must be aligned with addressing the world’s\n",
      "problems, not creating new ones. \n",
      "At our very core, we need to deliver\n",
      "innovation that helps drive broad economic growth. We, as a company,\n",
      "will do well \n",
      "when the world around us does well.  \n",
      "That’s what I\n",
      "believe will lead to widespread human progress and ultimately improve\n",
      "the lives of everyone. There is no \n",
      "more powerful input than digital\n",
      "technology to drive the world’s economic output. This is the core\n",
      "thesis for our being as a \n",
      "company, but it’s not enough. As we drive\n",
      "global economic growth, we must also commit to creating a more\n",
      "inclusive, \n",
      "equitable, sustainable, and trusted future.  \n",
      "Support\n",
      "inclusive economic growth  \n",
      "We must ensure the growth we drive reaches\n",
      "every person, organization, community, and country. This starts with\n",
      "\n",
      "increasing access to digital skills. This year alone, more than 23 \n",
      "million people accessed digital skills training as part of \n",
      "our global\n",
      "skills initiative.\n"
     ]
    }
   ],
   "source": [
    "from pypdf import PdfReader\n",
    "\n",
    "reader = PdfReader(\"microsoft_data/microsoft_annual_report_2022.pdf\")\n",
    "pdf_texts = [p.extract_text().strip() for p in reader.pages]\n",
    "\n",
    "# Filter the empty strings\n",
    "pdf_texts = [text for text in pdf_texts if text]\n",
    "\n",
    "print(word_wrap(pdf_texts[0]))"
   ]
  },
  {
   "cell_type": "code",
   "execution_count": 3,
   "metadata": {},
   "outputs": [],
   "source": [
    "from langchain.text_splitter import RecursiveCharacterTextSplitter, SentenceTransformersTokenTextSplitter\n"
   ]
  },
  {
   "cell_type": "code",
   "execution_count": 4,
   "metadata": {},
   "outputs": [
    {
     "name": "stdout",
     "output_type": "stream",
     "text": [
      "increased, due in large part to significant global datacenter\n",
      "expansions and the growth in Xbox sales and usage. Despite \n",
      "these\n",
      "increases, we remain dedicated to achieving a net -zero future. We\n",
      "recognize that progress won’t always be linear, \n",
      "and the rate at which\n",
      "we can implement emissions reductions is dependent on many factors that\n",
      "can fluctuate over time.  \n",
      "On the path to becoming water positive, we\n",
      "invested in 21 water replenishment projects that are expected to\n",
      "generate \n",
      "over 1.3  million cubic meters of volumetric benefits in nine\n",
      "water basins around the world. Progress toward our zero waste\n",
      "\n",
      "commitment included diverting more than 15,200 metric tons of solid\n",
      "waste otherwise headed to landfills and incinerators, \n",
      "as well as\n",
      "launching new Circular Centers to increase reuse and reduce e -waste at\n",
      "our datacenters.  \n",
      "We contracted to protect over 17,000 acres of land\n",
      "(50% more than the land we use to operate), thus achieving our\n",
      "\n",
      "Total chunks: 347\n"
     ]
    }
   ],
   "source": [
    "character_splitter = RecursiveCharacterTextSplitter(\n",
    "    separators=[\"\\n\\n\", \"\\n\", \". \", \" \", \"\"],\n",
    "    chunk_size=1000,\n",
    "    chunk_overlap=0\n",
    ")\n",
    "character_split_texts = character_splitter.split_text('\\n\\n'.join(pdf_texts))\n",
    "\n",
    "print(word_wrap(character_split_texts[10]))\n",
    "print(f\"\\nTotal chunks: {len(character_split_texts)}\")"
   ]
  },
  {
   "cell_type": "code",
   "execution_count": 5,
   "metadata": {},
   "outputs": [
    {
     "name": "stdout",
     "output_type": "stream",
     "text": [
      "increased, due in large part to significant global datacenter\n",
      "expansions and the growth in xbox sales and usage. despite these\n",
      "increases, we remain dedicated to achieving a net - zero future. we\n",
      "recognize that progress won ’ t always be linear, and the rate at which\n",
      "we can implement emissions reductions is dependent on many factors that\n",
      "can fluctuate over time. on the path to becoming water positive, we\n",
      "invested in 21 water replenishment projects that are expected to\n",
      "generate over 1. 3 million cubic meters of volumetric benefits in nine\n",
      "water basins around the world. progress toward our zero waste\n",
      "commitment included diverting more than 15, 200 metric tons of solid\n",
      "waste otherwise headed to landfills and incinerators, as well as\n",
      "launching new circular centers to increase reuse and reduce e - waste\n",
      "at our datacenters. we contracted to protect over 17, 000 acres of land\n",
      "( 50 % more than the land we use to operate ), thus achieving our\n",
      "\n",
      "Total chunks: 349\n"
     ]
    }
   ],
   "source": [
    "token_splitter = SentenceTransformersTokenTextSplitter(chunk_overlap=0, tokens_per_chunk=256)\n",
    "\n",
    "token_split_texts = []\n",
    "for text in character_split_texts:\n",
    "    token_split_texts += token_splitter.split_text(text)\n",
    "\n",
    "print(word_wrap(token_split_texts[10]))\n",
    "print(f\"\\nTotal chunks: {len(token_split_texts)}\")"
   ]
  },
  {
   "cell_type": "code",
   "execution_count": 6,
   "metadata": {},
   "outputs": [
    {
     "name": "stdout",
     "output_type": "stream",
     "text": [
      "[[0.042562659829854965, 0.03321179375052452, 0.030340097844600677, -0.0348665826022625, 0.06841649860143661, -0.0809091106057167, -0.015474388375878334, -0.0014509600587189198, -0.01674448698759079, 0.06770772486925125, -0.05054140090942383, -0.04919537156820297, 0.05139992758631706, 0.09192728251218796, -0.07177839428186417, 0.039519697427749634, -0.01283352356404066, -0.02494749240577221, -0.04622865095734596, -0.024357540532946587, 0.033949680626392365, 0.025502439588308334, 0.027317121624946594, -0.004126234911382198, -0.03633834421634674, 0.0036908991169184446, -0.027430472895503044, 0.004796717781573534, -0.028896242380142212, -0.01887071691453457, 0.03666626662015915, 0.02569586969912052, 0.03131285682320595, -0.06393434852361679, 0.053944025188684464, 0.08225350081920624, -0.04175687953829765, -0.006995814386755228, -0.02348605915904045, -0.030747931450605392, -0.0029792191926389933, -0.07790940254926682, 0.009353099390864372, 0.003162870416417718, -0.022257016971707344, -0.018294675275683403, -0.009612446650862694, -0.03150685504078865, -0.005519649479538202, -0.032703038305044174, 0.1680297553539276, -0.047459691762924194, -0.05001682788133621, -0.002659650519490242, -0.04104724898934364, -0.07003941386938095, 0.018295949324965477, -0.03143110126256943, -0.04741118103265762, -0.023663632571697235, 0.059449490159749985, -0.07201442122459412, 0.004945188760757446, -0.05532696470618248, 0.0874548852443695, 0.027872661128640175, -0.03977256268262863, 0.034529972821474075, -0.09992029517889023, 0.03289760276675224, -0.05780423432588577, 0.0024546647910028696, -0.027892285957932472, -0.04994705319404602, -0.040582478046417236, 0.01191751379519701, 0.020419076085090637, 0.07765398919582367, 0.06351622939109802, 0.017546888440847397, 0.023460958153009415, -0.007916633039712906, 0.01707422360777855, 0.008641233667731285, -0.06815341114997864, 0.03429615870118141, 0.000646502710878849, 0.022735409438610077, 0.05279362574219704, -0.058573223650455475, -0.09784109890460968, -0.001471859635785222, 0.1373988538980484, 0.00207946402952075, -0.07581519335508347, 0.05786574259400368, -0.06069638952612877, -0.06595756858587265, -0.033650562167167664, -0.03185924515128136, 0.012266583740711212, 0.09373302012681961, 0.0679951161146164, -0.08434037119150162, 0.044024769216775894, -0.04263874143362045, 0.011163060553371906, 0.10505221784114838, 0.029505807906389236, -0.018521104007959366, -0.029688293114304543, -0.03377027437090874, 0.0014967231545597315, 0.037323709577322006, -0.02024969644844532, 0.05842079967260361, -0.03979166969656944, -0.021219685673713684, 0.006418089848011732, -0.010290171951055527, 0.019626131281256676, 0.0036796999629586935, -0.05031092092394829, -0.016897084191441536, 0.04854491725564003, 0.06682311743497849, 0.01953633315861225, 2.7227499940226547e-33, -0.035934075713157654, 0.015661869198083878, 0.0967765524983406, -0.0002851706522051245, -0.009768504649400711, -0.09068476408720016, 0.014486284926533699, 0.012590738013386726, 0.02543584629893303, -0.03443487733602524, 0.004262943286448717, 0.027121396735310555, -0.020409993827342987, 0.07688488066196442, 0.035721030086278915, -0.13492535054683685, 0.05657854676246643, 0.01836453564465046, 0.02257789671421051, -0.03589031472802162, -0.011456682346761227, -0.04993824660778046, -0.01601238176226616, -0.06335373222827911, 0.10463961213827133, -0.0880160853266716, -0.004462322220206261, -0.010301056317985058, -0.017630744725465775, -0.020292283967137337, 0.006704188883304596, 0.0917235016822815, -0.007795084733515978, 0.005949382204562426, -0.015348874032497406, 0.018279558047652245, -0.018921494483947754, 0.03987525776028633, -0.003967314027249813, 0.03341926634311676, -0.0560772642493248, 0.07581256330013275, -0.0056255110539495945, -0.05445527657866478, 0.06698441505432129, -0.025974400341510773, 0.1119956225156784, -0.03642141446471214, 0.0050125932320952415, 0.032010022550821304, 0.04963691905140877, 0.09711597114801407, -0.11546941846609116, 0.06413275003433228, -0.03397880494594574, -0.09291563183069229, 0.04975482076406479, -0.08613420277833939, -0.008366375230252743, -0.013703732751309872, -0.07882801443338394, 0.019654331728816032, -0.03715047240257263, 0.014476144686341286, -0.049403149634599686, 0.05349242687225342, 0.09139016270637512, 0.031002867966890335, 0.030287649482488632, 0.02134282886981964, -0.04393773525953293, -0.042974404990673065, -0.0022650735918432474, -0.021944083273410797, 0.005474645644426346, -0.01024392619729042, 0.021677954122424126, -0.02732369489967823, -0.0007882519857957959, 0.03308917209506035, -0.00740237208083272, 0.009830004535615444, 0.01354407798498869, -0.03274480998516083, 0.05601909011602402, -0.06011645868420601, 0.031122006475925446, 0.03442240506410599, 0.026550497859716415, -0.006807955447584391, -0.011054251343011856, -0.014439890161156654, 0.022785373032093048, -0.027951980009675026, -0.016208965331315994, -3.689252653199271e-33, 0.029203709214925766, 0.046704862266778946, -0.04964416101574898, 0.06324491649866104, 0.028438033536076546, -0.022357169538736343, 0.03347986191511154, -0.018478726968169212, 0.018780097365379333, 0.0024116672575473785, -0.08167840540409088, 0.10084164142608643, 0.04902315512299538, 0.0364673025906086, -0.04556041955947876, -0.07049193233251572, 0.025340430438518524, -0.03267943859100342, -0.04296497255563736, -0.07251022011041641, 0.041307125240564346, 0.05049724504351616, 0.0064771417528390884, -0.003325000638142228, -0.08235663920640945, 0.08007717877626419, -0.0346539206802845, 0.008470496162772179, 0.041389450430870056, -0.01014765352010727, -0.10289658606052399, 0.04567128047347069, 0.012796063907444477, -0.06017766892910004, -0.02662782371044159, -0.09725230932235718, 0.015798600390553474, 0.07219129800796509, -0.015325839631259441, 0.001807121792808175, 0.060395363718271255, -0.07077642530202866, -0.02127872034907341, -0.03851626440882683, -0.05741112679243088, -0.004253828432410955, 0.03280766308307648, -0.017595605924725533, 0.04975765570998192, -0.0073790280148386955, -0.008354567922651768, 0.04313785582780838, -0.05429159477353096, 0.043162137269973755, 0.023688577115535736, 0.018171582370996475, 0.09282205998897552, -0.004222957883030176, -0.02251455932855606, 0.01928827352821827, -0.036844369024038315, 0.1001519188284874, 0.01776476949453354, 0.022849539294838905, -0.039676859974861145, 0.0016808538930490613, 0.050669245421886444, 0.0856492891907692, -0.026413552463054657, -0.03266862407326698, -0.03694960102438927, -0.0209940355271101, 0.017766067758202553, -0.07413069903850555, -0.024688147008419037, -0.03994889557361603, -0.024768000468611717, -0.024194061756134033, -0.010816431604325771, 0.010816018097102642, -0.030551737174391747, 0.10519371181726456, -0.00802175235003233, -0.032896313816308975, 0.14804388582706451, -0.07094293087720871, -0.05021911486983299, -0.15231887996196747, 0.022767448797822, 0.13845957815647125, -0.0792330950498581, -0.0416010357439518, -0.09371671080589294, 0.06601827591657639, 0.04352036491036415, -4.997970748377156e-08, -0.010548058897256851, 0.060080260038375854, 0.028823494911193848, 0.07072243839502335, 0.03157535940408707, -0.059137992560863495, 0.05488334596157074, 0.16316650807857513, 0.03475949540734291, 0.027875445783138275, 0.0712677612900734, -0.006946352310478687, -0.05290435999631882, 0.011619034223258495, -0.026835011318325996, 0.028954345732927322, 0.04344692453742027, -0.07012001425027847, -0.05879400297999382, -0.039219386875629425, -0.01729392074048519, -0.030054451897740364, -0.08112526684999466, -0.0450621098279953, 0.05249617248773575, -0.049235749989748, 0.08052121102809906, 0.06585509330034256, -0.0006081238389015198, -0.04566409811377525, 0.03058699704706669, -0.00638606259599328, -0.031755734235048294, 0.008228817023336887, 0.010760991834104061, 0.0010412632254883647, 0.01907871663570404, 0.03227987885475159, -0.014408724382519722, 0.03579793870449066, -0.0722818598151207, 0.03363296389579773, 0.006663556210696697, -0.01820623315870762, -0.02043628878891468, -0.002635394688695669, -0.1854771226644516, 0.012449301779270172, 0.029731348156929016, -0.03854850307106972, -0.00975334644317627, -0.013694334775209427, 0.009183349087834358, 0.08488921076059341, 0.1272188127040863, 0.055459991097450256, -0.049361664801836014, -0.011912018992006779, -0.05697927996516228, 0.10420084744691849, 0.05718068405985832, -0.10395055264234543, -0.023767858743667603, -0.02716900035738945]]\n"
     ]
    }
   ],
   "source": [
    "import chromadb\n",
    "from chromadb.utils.embedding_functions import SentenceTransformerEmbeddingFunction\n",
    "\n",
    "embedding_function = SentenceTransformerEmbeddingFunction()\n",
    "print(embedding_function([token_split_texts[10]]))"
   ]
  },
  {
   "cell_type": "code",
   "execution_count": 7,
   "metadata": {},
   "outputs": [
    {
     "data": {
      "text/plain": [
       "349"
      ]
     },
     "execution_count": 7,
     "metadata": {},
     "output_type": "execute_result"
    }
   ],
   "source": [
    "chroma_client = chromadb.Client()\n",
    "chroma_collection = chroma_client.create_collection(\"microsoft_annual_report_2022\", embedding_function=embedding_function)\n",
    "\n",
    "ids = [str(i) for i in range(len(token_split_texts))]\n",
    "\n",
    "chroma_collection.add(ids=ids, documents=token_split_texts)\n",
    "chroma_collection.count()"
   ]
  },
  {
   "cell_type": "code",
   "execution_count": 8,
   "metadata": {},
   "outputs": [
    {
     "name": "stdout",
     "output_type": "stream",
     "text": [
      "revenue, classified by significant product and service offerings, was\n",
      "as follows : ( in millions ) year ended june 30, 2022 2021 2020 server\n",
      "products and cloud services $ 67, 321 $ 52, 589 $ 41, 379 office\n",
      "products and cloud services 44, 862 39, 872 35, 316 windows 24, 761 22,\n",
      "488 21, 510 gaming 16, 230 15, 370 11, 575 linkedin 13, 816 10, 289 8,\n",
      "077 search and news advertising 11, 591 9, 267 8, 524 enterprise\n",
      "services 7, 407 6, 943 6, 409 devices 6, 991 6, 791 6, 457 other 5, 291\n",
      "4, 479 3, 768 total $ 198, 270 $ 168, 088 $ 143, 015 we have recast\n",
      "certain previously reported amounts in the table above to conform to\n",
      "the way we internally manage and monitor our business.\n",
      "\n",
      "\n",
      "74 note 13 — unearned revenue unearned revenue by segment was as\n",
      "follows : ( in millions ) june 30, 2022 2021 productivity and business\n",
      "processes $ 24, 558 $ 22, 120 intelligent cloud 19, 371 17, 710 more\n",
      "personal computing 4, 479 4, 311 total $ 48, 408 $ 44, 141 changes in\n",
      "unearned revenue were as follows : ( in millions ) year ended june 30,\n",
      "2022 balance, beginning of period $ 44, 141 deferral of revenue 110,\n",
      "455 recognition of unearned revenue ( 106, 188 ) balance, end of period\n",
      "$ 48, 408 revenue allocated to remaining performance obligations, which\n",
      "includes unearned revenue and amounts that will be invoiced and\n",
      "recognized as revenue in future periods, was $ 193 billion as of june\n",
      "30, 2022, of which $ 189 billion is related to the commercial portion\n",
      "of revenue. we expect to recognize approximately 45 % of this revenue\n",
      "over the next 12\n",
      "\n",
      "\n",
      "that are not sold separately. • we tested the mathematical accuracy of\n",
      "management ’ s calculations of revenue and the associated timing of\n",
      "revenue recognized in the financial statements.\n",
      "\n",
      "\n",
      "82 in addition, certain costs incurred at a corporate level that are\n",
      "identifiable and that benefit our segments are allocated to them. these\n",
      "allocated costs include legal, including settlements and fines,\n",
      "information technology, human resources, finance, excise taxes, field\n",
      "selling, shared facilities services, and customer service and support.\n",
      "each allocation is measured differently based on the specific facts and\n",
      "circumstances of the costs being allocated. segment revenue and\n",
      "operating income were as follows during the periods presented : ( in\n",
      "millions ) year ended june 30, 2022 2021 2020 revenue productivity and\n",
      "business processes $ 63, 364 $ 53, 915 $ 46, 398 intelligent cloud 75,\n",
      "251 60, 080 48, 366 more personal computing 59, 655 54, 093 48, 251\n",
      "total $ 198, 270 $ 168, 088 $ 143, 015 operating income\n",
      "\n",
      "\n",
      "47 financial statements and supplementary data income statements ( in\n",
      "millions, except per share amounts ) year ended june 30, 2022 2021 2020\n",
      "revenue : product $ 72, 732 $ 71, 074 $ 68, 041 service and other 125,\n",
      "538 97, 014 74, 974 total revenue 198, 270 168, 088 143, 015 cost of\n",
      "revenue : product 19, 064 18, 219 16, 017 service and other 43, 586 34,\n",
      "013 30, 061 total cost of revenue 62, 650 52, 232 46, 078 gross margin\n",
      "135, 620 115, 856 96, 937 research and development 24, 512 20, 716 19,\n",
      "269 sales and marketing 21, 825 20, 117 19, 598 general and\n",
      "administrative 5, 900 5, 107 5, 111 operating income 83, 383 69, 916\n",
      "52, 959 other income, net 333 1, 186 77 income before income taxes 83,\n",
      "716 71, 102 53, 036 provision for income taxes 10, 978 9, 831 8, 755\n",
      "\n",
      "\n"
     ]
    }
   ],
   "source": [
    "query = \"What was the total revenue?\"\n",
    "\n",
    "results = chroma_collection.query(query_texts=[query], n_results=5)\n",
    "retrieved_documents = results['documents'][0]\n",
    "\n",
    "for document in retrieved_documents:\n",
    "    print(word_wrap(document))\n",
    "    print('\\n')"
   ]
  },
  {
   "cell_type": "markdown",
   "metadata": {},
   "source": [
    "AFter this we must run an llm"
   ]
  },
  {
   "cell_type": "code",
   "execution_count": null,
   "metadata": {},
   "outputs": [],
   "source": [
    "import os\n",
    "import openai\n",
    "from openai import OpenAI\n",
    "\n",
    "from dotenv import load_dotenv, find_dotenv\n",
    "_ = load_dotenv(find_dotenv()) # read local .env file\n",
    "openai.api_key = os.environ['OPENAI_API_KEY']\n",
    "\n",
    "openai_client = OpenAI()"
   ]
  },
  {
   "cell_type": "code",
   "execution_count": 11,
   "metadata": {},
   "outputs": [],
   "source": [
    "def rag(query, retrieved_documents, model=\"gpt-3.5-turbo\"):\n",
    "    information = \"\\n\\n\".join(retrieved_documents)\n",
    "\n",
    "    messages = [\n",
    "        {\n",
    "            \"role\": \"system\",\n",
    "            \"content\": \"You are a helpful expert financial research assistant. Your users are asking questions about information contained in an annual report.\"\n",
    "            \"You will be shown the user's question, and the relevant information from the annual report. Answer the user's question using only this information.\"\n",
    "        },\n",
    "        {\"role\": \"user\", \"content\": f\"Question: {query}. \\n Information: {information}\"}\n",
    "    ]\n",
    "    return messages\n",
    "    # response = openai_client.chat.completions.create(\n",
    "    #     model=model,\n",
    "    #     messages=messages,\n",
    "    # )\n",
    "    # content = response.choices[0].message.content\n",
    "    # return content"
   ]
  },
  {
   "cell_type": "code",
   "execution_count": null,
   "metadata": {},
   "outputs": [],
   "source": [
    "output = rag(query=query, retrieved_documents=retrieved_documents)\n",
    "\n",
    "print(word_wrap(output))"
   ]
  },
  {
   "cell_type": "code",
   "execution_count": 12,
   "metadata": {},
   "outputs": [],
   "source": [
    "file = rag(query=query, retrieved_documents=retrieved_documents)\n",
    "\n",
    "with open('output.txt', 'w') as f:\n",
    "    for item in file:\n",
    "        f.write(\"%s\\n\" % item)"
   ]
  }
 ],
 "metadata": {
  "kernelspec": {
   "display_name": "base",
   "language": "python",
   "name": "python3"
  },
  "language_info": {
   "codemirror_mode": {
    "name": "ipython",
    "version": 3
   },
   "file_extension": ".py",
   "mimetype": "text/x-python",
   "name": "python",
   "nbconvert_exporter": "python",
   "pygments_lexer": "ipython3",
   "version": "3.11.4"
  }
 },
 "nbformat": 4,
 "nbformat_minor": 2
}
