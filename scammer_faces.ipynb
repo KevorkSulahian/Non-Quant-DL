{
 "cells": [
  {
   "cell_type": "code",
   "execution_count": 2,
   "metadata": {},
   "outputs": [
    {
     "name": "stderr",
     "output_type": "stream",
     "text": [
      "C:\\Users\\kevol\\AppData\\Local\\Temp\\ipykernel_21272\\3160791939.py:44: GradioUnusedKwargWarning: You have unused kwarg parameters in Slider, please remove them: {'default': 42}\n",
      "  gr.Slider(0, 1000, label='Seed', default=42),\n",
      "C:\\Users\\kevol\\AppData\\Local\\Temp\\ipykernel_21272\\3160791939.py:45: GradioUnusedKwargWarning: You have unused kwarg parameters in Slider, please remove them: {'default': 10}\n",
      "  gr.Slider(4, 64, label='Number of Punks', step=1, default=10),\n"
     ]
    },
    {
     "name": "stdout",
     "output_type": "stream",
     "text": [
      "Running on local URL:  http://127.0.0.1:7860\n",
      "\n",
      "To create a public link, set `share=True` in `launch()`.\n"
     ]
    },
    {
     "data": {
      "text/html": [
       "<div><iframe src=\"http://127.0.0.1:7860/\" width=\"100%\" height=\"500\" allow=\"autoplay; camera; microphone; clipboard-read; clipboard-write;\" frameborder=\"0\" allowfullscreen></iframe></div>"
      ],
      "text/plain": [
       "<IPython.core.display.HTML object>"
      ]
     },
     "metadata": {},
     "output_type": "display_data"
    },
    {
     "data": {
      "text/plain": []
     },
     "execution_count": 2,
     "metadata": {},
     "output_type": "execute_result"
    }
   ],
   "source": [
    "import torch\n",
    "from torch import nn\n",
    "from huggingface_hub import hf_hub_download\n",
    "from torchvision.utils import save_image\n",
    "import gradio as gr\n",
    "\n",
    "class Generator(nn.Module):\n",
    "\n",
    "    def __init__(self, nc=4, nz=100, ngf=64):\n",
    "        super(Generator, self).__init__()\n",
    "        self.network = nn.Sequential(\n",
    "            nn.ConvTranspose2d(nz, ngf * 4, 3, 1, 0, bias=False),\n",
    "            nn.BatchNorm2d(ngf * 4),\n",
    "            nn.ReLU(True),\n",
    "            nn.ConvTranspose2d(ngf * 4, ngf * 2, 3, 2, 1, bias=False),\n",
    "            nn.BatchNorm2d(ngf * 2),\n",
    "            nn.ReLU(True),\n",
    "            nn.ConvTranspose2d(ngf * 2, ngf, 4, 2, 0, bias=False),\n",
    "            nn.BatchNorm2d(ngf),\n",
    "            nn.ReLU(True),\n",
    "            nn.ConvTranspose2d(ngf, nc, 4, 2, 1, bias=False),\n",
    "            nn.Tanh(),\n",
    "        )\n",
    "\n",
    "    def forward(self, input):\n",
    "        output = self.network(input)\n",
    "        return output\n",
    "\n",
    "model = Generator()\n",
    "weights_path = hf_hub_download('nateraw/cryptopunks-gan', 'generator.pth')\n",
    "model.load_state_dict(torch.load(weights_path, map_location=torch.device('cpu'))) # Use 'cuda' if you have a GPU available\n",
    "\n",
    "def predict(seed, num_punks):\n",
    "    torch.manual_seed(seed)\n",
    "    z = torch.randn(num_punks, 100, 1, 1)\n",
    "    punks = model(z)\n",
    "    save_image(punks, \"punks.png\", normalize=True)\n",
    "    return 'punks.png'\n",
    "\n",
    "gr.Interface(\n",
    "    predict,\n",
    "    inputs=[\n",
    "        gr.Slider(0, 1000, label='Seed', default=42),\n",
    "        gr.Slider(4, 64, label='Number of Punks', step=1, default=10),\n",
    "    ],\n",
    "    outputs=\"image\",\n",
    "    examples=[[123, 15], [42, 29], [456, 8], [1337, 35]],\n",
    ").launch()"
   ]
  }
 ],
 "metadata": {
  "kernelspec": {
   "display_name": "pytorch",
   "language": "python",
   "name": "python3"
  },
  "language_info": {
   "codemirror_mode": {
    "name": "ipython",
    "version": 3
   },
   "file_extension": ".py",
   "mimetype": "text/x-python",
   "name": "python",
   "nbconvert_exporter": "python",
   "pygments_lexer": "ipython3",
   "version": "3.8.18"
  },
  "orig_nbformat": 4
 },
 "nbformat": 4,
 "nbformat_minor": 2
}
